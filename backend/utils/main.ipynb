{
 "cells": [
  {
   "cell_type": "code",
   "execution_count": 4,
   "id": "f1d94380",
   "metadata": {},
   "outputs": [
    {
     "data": {
      "text/html": [
       "<div>\n",
       "<style scoped>\n",
       "    .dataframe tbody tr th:only-of-type {\n",
       "        vertical-align: middle;\n",
       "    }\n",
       "\n",
       "    .dataframe tbody tr th {\n",
       "        vertical-align: top;\n",
       "    }\n",
       "\n",
       "    .dataframe thead th {\n",
       "        text-align: right;\n",
       "    }\n",
       "</style>\n",
       "<table border=\"1\" class=\"dataframe\">\n",
       "  <thead>\n",
       "    <tr style=\"text-align: right;\">\n",
       "      <th></th>\n",
       "      <th>house_type</th>\n",
       "      <th>house_size</th>\n",
       "      <th>location</th>\n",
       "      <th>city</th>\n",
       "      <th>latitude</th>\n",
       "      <th>longitude</th>\n",
       "      <th>price</th>\n",
       "      <th>currency</th>\n",
       "      <th>numBathrooms</th>\n",
       "      <th>numBalconies</th>\n",
       "      <th>isNegotiable</th>\n",
       "      <th>priceSqFt</th>\n",
       "      <th>verificationDate</th>\n",
       "      <th>description</th>\n",
       "      <th>SecurityDeposit</th>\n",
       "      <th>Status</th>\n",
       "      <th>City</th>\n",
       "    </tr>\n",
       "  </thead>\n",
       "  <tbody>\n",
       "    <tr>\n",
       "      <th>0</th>\n",
       "      <td>1 RK Studio Apartment</td>\n",
       "      <td>400 sq ft</td>\n",
       "      <td>Kalkaji</td>\n",
       "      <td>Delhi</td>\n",
       "      <td>28.545561</td>\n",
       "      <td>77.254349</td>\n",
       "      <td>22000</td>\n",
       "      <td>INR</td>\n",
       "      <td>1.0</td>\n",
       "      <td>NaN</td>\n",
       "      <td>NaN</td>\n",
       "      <td>NaN</td>\n",
       "      <td>Posted a day ago</td>\n",
       "      <td>Fully furnished, loaded with amenities &amp; gadge...</td>\n",
       "      <td>No Deposit</td>\n",
       "      <td>Furnished</td>\n",
       "      <td>Delhi</td>\n",
       "    </tr>\n",
       "    <tr>\n",
       "      <th>1</th>\n",
       "      <td>1 RK Studio Apartment</td>\n",
       "      <td>400 sq ft</td>\n",
       "      <td>Mansarover Garden</td>\n",
       "      <td>Delhi</td>\n",
       "      <td>28.643259</td>\n",
       "      <td>77.132828</td>\n",
       "      <td>20000</td>\n",
       "      <td>INR</td>\n",
       "      <td>1.0</td>\n",
       "      <td>NaN</td>\n",
       "      <td>NaN</td>\n",
       "      <td>NaN</td>\n",
       "      <td>Posted 9 days ago</td>\n",
       "      <td>Here is an excellent 1 BHK Independent Floor a...</td>\n",
       "      <td>No Deposit</td>\n",
       "      <td>Furnished</td>\n",
       "      <td>Delhi</td>\n",
       "    </tr>\n",
       "    <tr>\n",
       "      <th>2</th>\n",
       "      <td>2 BHK Independent Floor</td>\n",
       "      <td>500 sq ft</td>\n",
       "      <td>Uttam Nagar</td>\n",
       "      <td>Delhi</td>\n",
       "      <td>28.618677</td>\n",
       "      <td>77.053352</td>\n",
       "      <td>8500</td>\n",
       "      <td>INR</td>\n",
       "      <td>1.0</td>\n",
       "      <td>NaN</td>\n",
       "      <td>NaN</td>\n",
       "      <td>NaN</td>\n",
       "      <td>Posted 12 days ago</td>\n",
       "      <td>Zero Brokerage.\\n\\n2 Room set, Govt bijali Met...</td>\n",
       "      <td>No Deposit</td>\n",
       "      <td>Semi-Furnished</td>\n",
       "      <td>Delhi</td>\n",
       "    </tr>\n",
       "    <tr>\n",
       "      <th>3</th>\n",
       "      <td>3 BHK Independent House</td>\n",
       "      <td>1,020 sq ft</td>\n",
       "      <td>Model Town</td>\n",
       "      <td>Delhi</td>\n",
       "      <td>28.712898</td>\n",
       "      <td>77.180000</td>\n",
       "      <td>48000</td>\n",
       "      <td>INR</td>\n",
       "      <td>3.0</td>\n",
       "      <td>NaN</td>\n",
       "      <td>NaN</td>\n",
       "      <td>NaN</td>\n",
       "      <td>Posted a year ago</td>\n",
       "      <td>Itâs a 3 bhk independent house situated in M...</td>\n",
       "      <td>No Deposit</td>\n",
       "      <td>Furnished</td>\n",
       "      <td>Delhi</td>\n",
       "    </tr>\n",
       "    <tr>\n",
       "      <th>4</th>\n",
       "      <td>2 BHK Apartment</td>\n",
       "      <td>810 sq ft</td>\n",
       "      <td>Sector 13 Rohini</td>\n",
       "      <td>Delhi</td>\n",
       "      <td>28.723539</td>\n",
       "      <td>77.131424</td>\n",
       "      <td>20000</td>\n",
       "      <td>INR</td>\n",
       "      <td>2.0</td>\n",
       "      <td>NaN</td>\n",
       "      <td>NaN</td>\n",
       "      <td>NaN</td>\n",
       "      <td>Posted a year ago</td>\n",
       "      <td>Well designed 2 bhk multistorey apartment is a...</td>\n",
       "      <td>No Deposit</td>\n",
       "      <td>Unfurnished</td>\n",
       "      <td>Delhi</td>\n",
       "    </tr>\n",
       "  </tbody>\n",
       "</table>\n",
       "</div>"
      ],
      "text/plain": [
       "                 house_type   house_size           location   city   latitude  \\\n",
       "0    1 RK Studio Apartment     400 sq ft            Kalkaji  Delhi  28.545561   \n",
       "1    1 RK Studio Apartment     400 sq ft  Mansarover Garden  Delhi  28.643259   \n",
       "2  2 BHK Independent Floor     500 sq ft        Uttam Nagar  Delhi  28.618677   \n",
       "3  3 BHK Independent House   1,020 sq ft         Model Town  Delhi  28.712898   \n",
       "4          2 BHK Apartment     810 sq ft   Sector 13 Rohini  Delhi  28.723539   \n",
       "\n",
       "   longitude  price currency  numBathrooms  numBalconies isNegotiable  \\\n",
       "0  77.254349  22000      INR           1.0           NaN          NaN   \n",
       "1  77.132828  20000      INR           1.0           NaN          NaN   \n",
       "2  77.053352   8500      INR           1.0           NaN          NaN   \n",
       "3  77.180000  48000      INR           3.0           NaN          NaN   \n",
       "4  77.131424  20000      INR           2.0           NaN          NaN   \n",
       "\n",
       "   priceSqFt    verificationDate  \\\n",
       "0        NaN    Posted a day ago   \n",
       "1        NaN   Posted 9 days ago   \n",
       "2        NaN  Posted 12 days ago   \n",
       "3        NaN   Posted a year ago   \n",
       "4        NaN   Posted a year ago   \n",
       "\n",
       "                                         description SecurityDeposit  \\\n",
       "0  Fully furnished, loaded with amenities & gadge...      No Deposit   \n",
       "1  Here is an excellent 1 BHK Independent Floor a...      No Deposit   \n",
       "2  Zero Brokerage.\\n\\n2 Room set, Govt bijali Met...      No Deposit   \n",
       "3  Itâs a 3 bhk independent house situated in M...      No Deposit   \n",
       "4  Well designed 2 bhk multistorey apartment is a...      No Deposit   \n",
       "\n",
       "           Status   City  \n",
       "0       Furnished  Delhi  \n",
       "1       Furnished  Delhi  \n",
       "2  Semi-Furnished  Delhi  \n",
       "3       Furnished  Delhi  \n",
       "4     Unfurnished  Delhi  "
      ]
     },
     "execution_count": 4,
     "metadata": {},
     "output_type": "execute_result"
    }
   ],
   "source": [
    "import pandas as pd\n",
    "\n",
    "# Load the combined dataset\n",
    "df = pd.read_csv(\"../data/processed/combined_data.csv\")\n",
    "\n",
    "# Basic preview\n",
    "df.head()\n"
   ]
  },
  {
   "cell_type": "code",
   "execution_count": 5,
   "id": "84f2fbb4",
   "metadata": {},
   "outputs": [
    {
     "data": {
      "text/plain": [
       "(13910, 17)"
      ]
     },
     "execution_count": 5,
     "metadata": {},
     "output_type": "execute_result"
    }
   ],
   "source": [
    "df.shape"
   ]
  },
  {
   "cell_type": "code",
   "execution_count": 6,
   "id": "8fe40837",
   "metadata": {},
   "outputs": [
    {
     "data": {
      "text/plain": [
       "['house_type',\n",
       " 'house_size',\n",
       " 'location',\n",
       " 'city',\n",
       " 'latitude',\n",
       " 'longitude',\n",
       " 'price',\n",
       " 'currency',\n",
       " 'numBathrooms',\n",
       " 'numBalconies',\n",
       " 'isNegotiable',\n",
       " 'priceSqFt',\n",
       " 'verificationDate',\n",
       " 'description',\n",
       " 'SecurityDeposit',\n",
       " 'Status',\n",
       " 'City']"
      ]
     },
     "execution_count": 6,
     "metadata": {},
     "output_type": "execute_result"
    }
   ],
   "source": [
    "df.columns.tolist()"
   ]
  },
  {
   "cell_type": "code",
   "execution_count": 7,
   "id": "c9f4ff02",
   "metadata": {},
   "outputs": [
    {
     "data": {
      "text/plain": [
       "house_type              0\n",
       "house_size              0\n",
       "location                0\n",
       "city                    0\n",
       "latitude                0\n",
       "longitude               0\n",
       "price                   0\n",
       "currency                0\n",
       "numBathrooms           56\n",
       "numBalconies         8619\n",
       "isNegotiable        12634\n",
       "priceSqFt           13910\n",
       "verificationDate        0\n",
       "description           831\n",
       "SecurityDeposit         0\n",
       "Status                  0\n",
       "City                    0\n",
       "dtype: int64"
      ]
     },
     "execution_count": 7,
     "metadata": {},
     "output_type": "execute_result"
    }
   ],
   "source": [
    "df.isnull().sum()"
   ]
  },
  {
   "cell_type": "markdown",
   "id": "114ee9df",
   "metadata": {},
   "source": [
    "#### house_type              0\n",
    "#### house_size              0\n",
    "#### location                0\n",
    "#### city                    0\n",
    "#### latitude                0\n",
    "#### longitude               0\n",
    "#### price                   0\n",
    "#### currency                0\n",
    "#### numBathrooms           56\n",
    "#### numBalconies         8619\n",
    "#### isNegotiable        12634\n",
    "#### priceSqFt           13910\n",
    "#### verificationDate        0\n",
    "#### description           831\n",
    "#### SecurityDeposit         0\n",
    "#### Status                  0\n",
    "#### City                    0\n"
   ]
  },
  {
   "cell_type": "code",
   "execution_count": 8,
   "id": "b75b9ca0",
   "metadata": {},
   "outputs": [
    {
     "name": "stderr",
     "output_type": "stream",
     "text": [
      "C:\\Users\\HP\\AppData\\Local\\Temp\\ipykernel_14288\\3022877763.py:10: FutureWarning: A value is trying to be set on a copy of a DataFrame or Series through chained assignment using an inplace method.\n",
      "The behavior will change in pandas 3.0. This inplace method will never work because the intermediate object on which we are setting values always behaves as a copy.\n",
      "\n",
      "For example, when doing 'df[col].method(value, inplace=True)', try using 'df.method({col: value}, inplace=True)' or df[col] = df[col].method(value) instead, to perform the operation inplace on the original object.\n",
      "\n",
      "\n",
      "  df['numBathrooms'].fillna(df['numBathrooms'].median(), inplace=True)\n"
     ]
    }
   ],
   "source": [
    "#### numBathrooms           56      int \n",
    "#### numBalconies         8619      int \n",
    "#### isNegotiable        12634      bool\n",
    "#### priceSqFt           13910      float64\n",
    "#### description         831        object\n",
    "\n",
    "\n",
    "\n",
    "# Gonna fill the numBathrooms with median of the cols\n",
    "df['numBathrooms'].fillna(df['numBathrooms'].median(), inplace=True)"
   ]
  },
  {
   "cell_type": "code",
   "execution_count": 9,
   "id": "85c6e888",
   "metadata": {},
   "outputs": [
    {
     "name": "stderr",
     "output_type": "stream",
     "text": [
      "C:\\Users\\HP\\AppData\\Local\\Temp\\ipykernel_14288\\959156555.py:2: FutureWarning: A value is trying to be set on a copy of a DataFrame or Series through chained assignment using an inplace method.\n",
      "The behavior will change in pandas 3.0. This inplace method will never work because the intermediate object on which we are setting values always behaves as a copy.\n",
      "\n",
      "For example, when doing 'df[col].method(value, inplace=True)', try using 'df.method({col: value}, inplace=True)' or df[col] = df[col].method(value) instead, to perform the operation inplace on the original object.\n",
      "\n",
      "\n",
      "  df['numBalconies'].fillna(0, inplace=True)\n"
     ]
    }
   ],
   "source": [
    "# Now fill the values of numBalconies with 0 as because the it has near about 50% data missing\n",
    "df['numBalconies'].fillna(0, inplace=True)"
   ]
  },
  {
   "cell_type": "code",
   "execution_count": 10,
   "id": "3347efe2",
   "metadata": {},
   "outputs": [],
   "source": [
    "# We will drop this column as it has more than 80% percentage of missing values so it will be removed \n",
    "df.drop(columns=['isNegotiable'], inplace=True)\n"
   ]
  },
  {
   "cell_type": "code",
   "execution_count": 89,
   "id": "aacd118b",
   "metadata": {},
   "outputs": [],
   "source": [
    "# Step 1: Remove commas and 'sq ft', then strip whitespace\n",
    "df['house_size'] = df['house_size'].str.replace(',', '')\n",
    "df['house_size'] = df['house_size'].str.replace('sq ft', '')\n",
    "df['house_size'] = df['house_size'].str.strip()\n",
    "\n",
    "# Step 2: Convert to numeric\n",
    "df['house_size'] = pd.to_numeric(df['house_size'], errors='coerce')\n",
    "\n",
    "\n",
    "\n",
    "df['priceSqFt'] = df['price'] / df['house_size']\n"
   ]
  },
  {
   "cell_type": "code",
   "execution_count": null,
   "id": "33ad06f2",
   "metadata": {},
   "outputs": [
    {
     "data": {
      "text/plain": [
       "0      400 sq ft\n",
       "1      400 sq ft\n",
       "2      500 sq ft\n",
       "3    1,020 sq ft\n",
       "4      810 sq ft\n",
       "Name: house_size, dtype: object"
      ]
     },
     "execution_count": 13,
     "metadata": {},
     "output_type": "execute_result"
    }
   ],
   "source": [
    "df.house_size.head( )           "
   ]
  },
  {
   "cell_type": "code",
   "execution_count": 14,
   "id": "554756fc",
   "metadata": {},
   "outputs": [
    {
     "data": {
      "text/plain": [
       "0    22000\n",
       "1    20000\n",
       "2     8500\n",
       "3    48000\n",
       "4    20000\n",
       "Name: price, dtype: int64"
      ]
     },
     "execution_count": 14,
     "metadata": {},
     "output_type": "execute_result"
    }
   ],
   "source": [
    "df.price.head( )"
   ]
  },
  {
   "cell_type": "code",
   "execution_count": 91,
   "id": "9fe1ad69",
   "metadata": {},
   "outputs": [
    {
     "name": "stderr",
     "output_type": "stream",
     "text": [
      "C:\\Users\\HP\\AppData\\Local\\Temp\\ipykernel_14288\\2523289420.py:1: FutureWarning: A value is trying to be set on a copy of a DataFrame or Series through chained assignment using an inplace method.\n",
      "The behavior will change in pandas 3.0. This inplace method will never work because the intermediate object on which we are setting values always behaves as a copy.\n",
      "\n",
      "For example, when doing 'df[col].method(value, inplace=True)', try using 'df.method({col: value}, inplace=True)' or df[col] = df[col].method(value) instead, to perform the operation inplace on the original object.\n",
      "\n",
      "\n",
      "  df['description'].fillna(\"No description available\", inplace=True)\n"
     ]
    }
   ],
   "source": [
    "df['description'].fillna(\"No description available\", inplace=True)"
   ]
  },
  {
   "cell_type": "code",
   "execution_count": 92,
   "id": "f97f2e12",
   "metadata": {},
   "outputs": [
    {
     "data": {
      "text/plain": [
       "house_type          0\n",
       "house_size          0\n",
       "location            0\n",
       "city                0\n",
       "latitude            0\n",
       "longitude           0\n",
       "price               0\n",
       "currency            0\n",
       "numBathrooms        0\n",
       "numBalconies        0\n",
       "priceSqFt           0\n",
       "verificationDate    0\n",
       "description         0\n",
       "SecurityDeposit     0\n",
       "Status              0\n",
       "City                0\n",
       "dtype: int64"
      ]
     },
     "execution_count": 92,
     "metadata": {},
     "output_type": "execute_result"
    }
   ],
   "source": [
    "df.isnull().sum()"
   ]
  },
  {
   "cell_type": "code",
   "execution_count": 93,
   "id": "5c54894b",
   "metadata": {},
   "outputs": [
    {
     "data": {
      "text/html": [
       "<div>\n",
       "<style scoped>\n",
       "    .dataframe tbody tr th:only-of-type {\n",
       "        vertical-align: middle;\n",
       "    }\n",
       "\n",
       "    .dataframe tbody tr th {\n",
       "        vertical-align: top;\n",
       "    }\n",
       "\n",
       "    .dataframe thead th {\n",
       "        text-align: right;\n",
       "    }\n",
       "</style>\n",
       "<table border=\"1\" class=\"dataframe\">\n",
       "  <thead>\n",
       "    <tr style=\"text-align: right;\">\n",
       "      <th></th>\n",
       "      <th>house_type</th>\n",
       "      <th>house_size</th>\n",
       "      <th>location</th>\n",
       "      <th>city</th>\n",
       "      <th>latitude</th>\n",
       "      <th>longitude</th>\n",
       "      <th>price</th>\n",
       "      <th>currency</th>\n",
       "      <th>numBathrooms</th>\n",
       "      <th>numBalconies</th>\n",
       "      <th>priceSqFt</th>\n",
       "      <th>verificationDate</th>\n",
       "      <th>description</th>\n",
       "      <th>SecurityDeposit</th>\n",
       "      <th>Status</th>\n",
       "      <th>City</th>\n",
       "    </tr>\n",
       "  </thead>\n",
       "  <tbody>\n",
       "    <tr>\n",
       "      <th>0</th>\n",
       "      <td>1 RK Studio Apartment</td>\n",
       "      <td>400</td>\n",
       "      <td>Kalkaji</td>\n",
       "      <td>Delhi</td>\n",
       "      <td>28.545561</td>\n",
       "      <td>77.254349</td>\n",
       "      <td>22000</td>\n",
       "      <td>INR</td>\n",
       "      <td>1.0</td>\n",
       "      <td>0.0</td>\n",
       "      <td>55.000000</td>\n",
       "      <td>Posted a day ago</td>\n",
       "      <td>Fully furnished, loaded with amenities &amp; gadge...</td>\n",
       "      <td>No Deposit</td>\n",
       "      <td>Furnished</td>\n",
       "      <td>Delhi</td>\n",
       "    </tr>\n",
       "    <tr>\n",
       "      <th>1</th>\n",
       "      <td>1 RK Studio Apartment</td>\n",
       "      <td>400</td>\n",
       "      <td>Mansarover Garden</td>\n",
       "      <td>Delhi</td>\n",
       "      <td>28.643259</td>\n",
       "      <td>77.132828</td>\n",
       "      <td>20000</td>\n",
       "      <td>INR</td>\n",
       "      <td>1.0</td>\n",
       "      <td>0.0</td>\n",
       "      <td>50.000000</td>\n",
       "      <td>Posted 9 days ago</td>\n",
       "      <td>Here is an excellent 1 BHK Independent Floor a...</td>\n",
       "      <td>No Deposit</td>\n",
       "      <td>Furnished</td>\n",
       "      <td>Delhi</td>\n",
       "    </tr>\n",
       "    <tr>\n",
       "      <th>2</th>\n",
       "      <td>2 BHK Independent Floor</td>\n",
       "      <td>500</td>\n",
       "      <td>Uttam Nagar</td>\n",
       "      <td>Delhi</td>\n",
       "      <td>28.618677</td>\n",
       "      <td>77.053352</td>\n",
       "      <td>8500</td>\n",
       "      <td>INR</td>\n",
       "      <td>1.0</td>\n",
       "      <td>0.0</td>\n",
       "      <td>17.000000</td>\n",
       "      <td>Posted 12 days ago</td>\n",
       "      <td>Zero Brokerage.\\n\\n2 Room set, Govt bijali Met...</td>\n",
       "      <td>No Deposit</td>\n",
       "      <td>Semi-Furnished</td>\n",
       "      <td>Delhi</td>\n",
       "    </tr>\n",
       "    <tr>\n",
       "      <th>3</th>\n",
       "      <td>3 BHK Independent House</td>\n",
       "      <td>1020</td>\n",
       "      <td>Model Town</td>\n",
       "      <td>Delhi</td>\n",
       "      <td>28.712898</td>\n",
       "      <td>77.180000</td>\n",
       "      <td>48000</td>\n",
       "      <td>INR</td>\n",
       "      <td>3.0</td>\n",
       "      <td>0.0</td>\n",
       "      <td>47.058824</td>\n",
       "      <td>Posted a year ago</td>\n",
       "      <td>Itâs a 3 bhk independent house situated in M...</td>\n",
       "      <td>No Deposit</td>\n",
       "      <td>Furnished</td>\n",
       "      <td>Delhi</td>\n",
       "    </tr>\n",
       "    <tr>\n",
       "      <th>4</th>\n",
       "      <td>2 BHK Apartment</td>\n",
       "      <td>810</td>\n",
       "      <td>Sector 13 Rohini</td>\n",
       "      <td>Delhi</td>\n",
       "      <td>28.723539</td>\n",
       "      <td>77.131424</td>\n",
       "      <td>20000</td>\n",
       "      <td>INR</td>\n",
       "      <td>2.0</td>\n",
       "      <td>0.0</td>\n",
       "      <td>24.691358</td>\n",
       "      <td>Posted a year ago</td>\n",
       "      <td>Well designed 2 bhk multistorey apartment is a...</td>\n",
       "      <td>No Deposit</td>\n",
       "      <td>Unfurnished</td>\n",
       "      <td>Delhi</td>\n",
       "    </tr>\n",
       "  </tbody>\n",
       "</table>\n",
       "</div>"
      ],
      "text/plain": [
       "                 house_type  house_size           location   city   latitude  \\\n",
       "0    1 RK Studio Apartment          400            Kalkaji  Delhi  28.545561   \n",
       "1    1 RK Studio Apartment          400  Mansarover Garden  Delhi  28.643259   \n",
       "2  2 BHK Independent Floor          500        Uttam Nagar  Delhi  28.618677   \n",
       "3  3 BHK Independent House         1020         Model Town  Delhi  28.712898   \n",
       "4          2 BHK Apartment          810   Sector 13 Rohini  Delhi  28.723539   \n",
       "\n",
       "   longitude  price currency  numBathrooms  numBalconies  priceSqFt  \\\n",
       "0  77.254349  22000      INR           1.0           0.0  55.000000   \n",
       "1  77.132828  20000      INR           1.0           0.0  50.000000   \n",
       "2  77.053352   8500      INR           1.0           0.0  17.000000   \n",
       "3  77.180000  48000      INR           3.0           0.0  47.058824   \n",
       "4  77.131424  20000      INR           2.0           0.0  24.691358   \n",
       "\n",
       "     verificationDate                                        description  \\\n",
       "0    Posted a day ago  Fully furnished, loaded with amenities & gadge...   \n",
       "1   Posted 9 days ago  Here is an excellent 1 BHK Independent Floor a...   \n",
       "2  Posted 12 days ago  Zero Brokerage.\\n\\n2 Room set, Govt bijali Met...   \n",
       "3   Posted a year ago  Itâs a 3 bhk independent house situated in M...   \n",
       "4   Posted a year ago  Well designed 2 bhk multistorey apartment is a...   \n",
       "\n",
       "  SecurityDeposit          Status   City  \n",
       "0      No Deposit       Furnished  Delhi  \n",
       "1      No Deposit       Furnished  Delhi  \n",
       "2      No Deposit  Semi-Furnished  Delhi  \n",
       "3      No Deposit       Furnished  Delhi  \n",
       "4      No Deposit     Unfurnished  Delhi  "
      ]
     },
     "execution_count": 93,
     "metadata": {},
     "output_type": "execute_result"
    }
   ],
   "source": [
    "df.head()"
   ]
  },
  {
   "cell_type": "code",
   "execution_count": 95,
   "id": "dc351d0a",
   "metadata": {},
   "outputs": [
    {
     "name": "stdout",
     "output_type": "stream",
     "text": [
      "Categorical columns: ['house_type', 'location', 'city', 'currency', 'verificationDate', 'description', 'SecurityDeposit', 'Status', 'City']\n",
      "\n",
      "Column: house_type\n",
      "['1 RK Studio Apartment ' '2 BHK Independent Floor '\n",
      " '3 BHK Independent House ' '2 BHK Apartment ' '3 BHK Apartment '\n",
      " '3 BHK Independent Floor ' '4 BHK Independent Floor '\n",
      " '1 BHK Independent Floor ' '1 BHK Apartment ' '8 BHK Independent Floor ']\n",
      "\n",
      "Column: location\n",
      "['Kalkaji' 'Mansarover Garden' 'Uttam Nagar' 'Model Town'\n",
      " 'Sector 13 Rohini' 'DLF Farms' 'laxmi nagar' 'Swasthya Vihar' 'Janakpuri'\n",
      " 'Pitampura']\n",
      "\n",
      "Column: city\n",
      "['Delhi' 'Mumbai' 'Hisar' 'Pune']\n",
      "\n",
      "Column: currency\n",
      "['INR']\n",
      "\n",
      "Column: verificationDate\n",
      "['Posted a day ago' 'Posted 9 days ago' 'Posted 12 days ago'\n",
      " 'Posted a year ago' 'Posted 2 years ago' 'Posted 3 years ago'\n",
      " 'Posted 2 months ago' 'Posted a month ago' 'Posted 17 days ago'\n",
      " 'Posted 13 days ago']\n",
      "\n",
      "Column: description\n",
      "['Fully furnished, loaded with amenities & gadgets- 1RK + lobby Set, with all facilities, Park facing with front wide open terrace & backside Balcony, fully secured. Walkable distance to metro & market. Free daily room cleaning, 24hours free watersupply, Ideal accomodation for male professional working executive. More About This Property This is a modern and stylish home available for affordable rent in Delhi. It is a 1 BHK Independent Floor situated at Kalkaji. Designed to meet your lifestyle needs, the Independent Floor provides a range of modern amenities for the comfort of the residents. It is Fully Furnished. Modern home seekers will experience a comfortable living in this 1 BHK property. The Independent Floor is on 3 floor, and the total number of floors is 3. The 1 BHK unit is elegantly designed to meet your housing needs. The Independent Floor has 1 bedroom. It has 1 bathroom. The 1 BHK unit also includes 1 balcony giving splendid views of the surroundings. It is a South-East facing unit, designed as per vaastu principles. The built-up area of the Independent Floor is 400 Square feet. The carpet area is 300 Square feet. The monthly rent for the Independent Floor is Rs 22000. The security deposit is Rs 22000. Project Highlights The developer also offers 1 BHK units as a part of this project. The property offers various facilities for residents such as Garden, Four Wheeler Parking. Residents have access to power backup facility. Modern safety features like cctv facility have also been installed in the property. The locality Kalkaji enjoys good connectivity and convenience in terms of a well-developed social infrastructure. There are hospitals in the vicinity like Triton Hospital, Best Hospital in New Delhi - Piles | Fissure | Fistula | Circumcision | Hernia | Varicose veins, and DKH Diagnostics'\n",
      " 'Here is an excellent 1 BHK Independent Floor available for rent in Delhi. Surrounded by natural greens and equipped with numerous amenities, this rented 1 BHK house offers a comfortable lifestyle for families. It is a spacious property nestled in Mansarover Garden that enjoys good connectivity to major landmarks of the city. The Independent Floor is designed as per modern construction standards. It has 1 bedroom and 1 bathroom. The 1 BHK unit is thoughtfully designed to meet the space needs of a modern family and allows ample sunlight and fresh air. There are 1 balcony in this unit where residents can spend a relaxed evening and enjoy excellent views of the surroundings. This Independent Floor has 400 square_feet of built-up area. The monthly rent payable is Rs 20000, and the security deposit to be paid is Rs 20000. Project Highlights Several lifestyle amenities have been provided for the residents of this Independent Floor to ensure a sophisticated living. The locality Mansarover Garden provides comfortable social infrastructure'\n",
      " 'Zero Brokerage.\\n\\n2 Room set, Govt bijali Meter, Govt water supply, 25ft road, nearby market, car parking -extra charge, bike parking free, Electric Gate Lock, Seprate water Motor,  More About This Property Your search for a spacious home at affordable rent in Delhi ends here. This 2 BHK Independent Floor in Uttam Nagar is all that you have been looking for! Designed as North-West facing, the unit is compliant with vaastu principles. The 2 BHK property offers a serene environment with excellent views of the city. This Independent Floor is equipped with the latest lifestyle amenities and all the conveniences at the doorstep. It is Semi Furnished Independent Floor. This unit is built on floor 2 out of a total 3 floors. The Independent Floor has been thoughtfully designed to meet a family?s space needs, with 2 bedrooms. It includes 1 bathroom. There are 2 balcony that lets you enjoy scenic views. The built-up area of this Independent Floor is 500 Square feet. The carpet area is 450 Square feet. Residents need to pay a monthly rent of Rs 8500. The security deposit payable is Rs 8500. Project Highlights The Independent Floor is in proximity to major landmarks in Delhi. Families of this Independent Floor have easy access to healthcare centres when they need medical assistance, especially in emergencies'\n",
      " 'Itâ\\x80\\x99s a 3 bhk independent house situated in Model Town, Delhi. It has area of 1020 sqft and is available at a rent of Rs. 48,000. It has 1 tv, 1 refrigerator, 1 sofa and 1 ac. It also has 1 bed. This residential property is ready-to-move-in. Please contact for more details. '\n",
      " \"Well designed 2 bhk multistorey apartment is available at a prime location in GS Apartment. It has an area of 810 sqft . The property is available at a monthly rental of Rs. 20,000 . It is an unfurnished property. This residential property is ready-to-move-in. The time you'll spend here will become the greatest moment of your life that will also help you to relieve, relax & evoke a great sense of happiness. The site is in close proximity to various civic utilities. \"\n",
      " \"Well designed 3 bhk multistorey apartment is available at a prime location in DLF Farms. It has a built-up area of 750 sqft and is available for rent at Rs. 11,000 per month . It is a 5 year old ready-to-move-in property. The time you'll spend here will become the greatest moment of your life that will also help you to relieve, relax & evoke a great sense of happiness. The site is in close proximity to various civic utilities. \"\n",
      " 'Itâ\\x80\\x99s a 3 bhk builder floor situated in laxmi nagar. It has an area of 1300 sqft with a carpet area of 1300 sqft . The property is available at a monthly rental of Rs. 20,000 . The house is furnished. This residential property is ready-to-move-in. It is made in way to provide a comfortable living. It is situated in the proximity of all the important facilities. If you are interested, please contact us for more details. '\n",
      " 'Well designed 3 bhk builder floor is available at a prime location in Swasthya Vihar. It has an area of 1200 sqft . The property is available at a monthly rental of Rs. 35,000 . It is a furnished property. It is a ready-to-move-in property. It is made in way to provide a comfortable living for the residents. It is situated in the proximity of all the important facilities. Please contact for more details. '\n",
      " 'A spacious 3 bhk independent house is available for rental in Janakpuri, Delhi. It has an area of 1100 sqft . The property is available at a monthly rental of Rs. 39,000 . The house is semi-furnished. This residential property is ready-to-move-in. It is made in way to provide a comfortable living for the residents. The society is well connected by different modes of transportation. Please contact us for more details. '\n",
      " 'A spacious 4 bhk builder floor is available for rental in Pitampura, Delhi. It has area of 2500 sqft and is available at a rent of Rs. 90,000. The house is semi-furnished. This residential property is ready-to-move-in. It is made in way to provide a comfortable living for the residents. It is well connected to the city areas. If you are interested, please contact us for more details. ']\n",
      "\n",
      "Column: SecurityDeposit\n",
      "['No Deposit' ' 13,000' ' 70,000' ' 56,000' ' 46,000' ' 50,000' ' 66,000'\n",
      " ' 36,000' ' 65,41,919' ' 60,10,155']\n",
      "\n",
      "Column: Status\n",
      "['Furnished' 'Semi-Furnished' 'Unfurnished']\n",
      "\n",
      "Column: City\n",
      "['Delhi' 'Mumbai' 'Pune']\n"
     ]
    }
   ],
   "source": [
    "# Show all columns with object (non-numeric) datatype\n",
    "categorical_cols = df.select_dtypes(include='object').columns.tolist()\n",
    "print(\"Categorical columns:\", categorical_cols)\n",
    "\n",
    "# Show unique values for each to inspect what needs encoding\n",
    "for col in categorical_cols:\n",
    "    print(f\"\\nColumn: {col}\")\n",
    "    print(df[col].unique()[:10])  # Show up to 10 unique values for preview\n"
   ]
  },
  {
   "cell_type": "code",
   "execution_count": 98,
   "id": "10a288f4",
   "metadata": {},
   "outputs": [
    {
     "name": "stdout",
     "output_type": "stream",
     "text": [
      "<class 'pandas.core.frame.DataFrame'>\n",
      "RangeIndex: 13910 entries, 0 to 13909\n",
      "Data columns (total 16 columns):\n",
      " #   Column            Non-Null Count  Dtype  \n",
      "---  ------            --------------  -----  \n",
      " 0   house_type        13910 non-null  object \n",
      " 1   house_size        13910 non-null  int64  \n",
      " 2   location          13910 non-null  object \n",
      " 3   city              13910 non-null  object \n",
      " 4   latitude          13910 non-null  float64\n",
      " 5   longitude         13910 non-null  float64\n",
      " 6   price             13910 non-null  int64  \n",
      " 7   currency          13910 non-null  object \n",
      " 8   numBathrooms      13910 non-null  float64\n",
      " 9   numBalconies      13910 non-null  float64\n",
      " 10  priceSqFt         13910 non-null  float64\n",
      " 11  verificationDate  13910 non-null  object \n",
      " 12  description       13910 non-null  object \n",
      " 13  SecurityDeposit   13910 non-null  object \n",
      " 14  Status            13910 non-null  object \n",
      " 15  City              13910 non-null  object \n",
      "dtypes: float64(5), int64(2), object(9)\n",
      "memory usage: 1.7+ MB\n",
      "\n",
      "\n",
      "Sample rows:\n"
     ]
    },
    {
     "data": {
      "text/html": [
       "<div>\n",
       "<style scoped>\n",
       "    .dataframe tbody tr th:only-of-type {\n",
       "        vertical-align: middle;\n",
       "    }\n",
       "\n",
       "    .dataframe tbody tr th {\n",
       "        vertical-align: top;\n",
       "    }\n",
       "\n",
       "    .dataframe thead th {\n",
       "        text-align: right;\n",
       "    }\n",
       "</style>\n",
       "<table border=\"1\" class=\"dataframe\">\n",
       "  <thead>\n",
       "    <tr style=\"text-align: right;\">\n",
       "      <th></th>\n",
       "      <th>house_type</th>\n",
       "      <th>house_size</th>\n",
       "      <th>location</th>\n",
       "      <th>city</th>\n",
       "      <th>latitude</th>\n",
       "      <th>longitude</th>\n",
       "      <th>price</th>\n",
       "      <th>currency</th>\n",
       "      <th>numBathrooms</th>\n",
       "      <th>numBalconies</th>\n",
       "      <th>priceSqFt</th>\n",
       "      <th>verificationDate</th>\n",
       "      <th>description</th>\n",
       "      <th>SecurityDeposit</th>\n",
       "      <th>Status</th>\n",
       "      <th>City</th>\n",
       "    </tr>\n",
       "  </thead>\n",
       "  <tbody>\n",
       "    <tr>\n",
       "      <th>7769</th>\n",
       "      <td>2 BHK Apartment</td>\n",
       "      <td>1000</td>\n",
       "      <td>St Andrew Rd</td>\n",
       "      <td>Mumbai</td>\n",
       "      <td>19.059696</td>\n",
       "      <td>72.826569</td>\n",
       "      <td>79000</td>\n",
       "      <td>INR</td>\n",
       "      <td>2.0</td>\n",
       "      <td>2.0</td>\n",
       "      <td>79.000000</td>\n",
       "      <td>Posted 4 years ago</td>\n",
       "      <td>2 BHK apartment available on rent, it is locat...</td>\n",
       "      <td>2,50,000</td>\n",
       "      <td>Furnished</td>\n",
       "      <td>Mumbai</td>\n",
       "    </tr>\n",
       "    <tr>\n",
       "      <th>8381</th>\n",
       "      <td>2 BHK Apartment</td>\n",
       "      <td>1210</td>\n",
       "      <td>Panvel</td>\n",
       "      <td>Mumbai</td>\n",
       "      <td>18.953079</td>\n",
       "      <td>73.149582</td>\n",
       "      <td>10000</td>\n",
       "      <td>INR</td>\n",
       "      <td>2.0</td>\n",
       "      <td>0.0</td>\n",
       "      <td>8.264463</td>\n",
       "      <td>Posted 3 years ago</td>\n",
       "      <td>Itâs a 2 bhk multistorey apartment situated ...</td>\n",
       "      <td>No Deposit</td>\n",
       "      <td>Unfurnished</td>\n",
       "      <td>Mumbai</td>\n",
       "    </tr>\n",
       "    <tr>\n",
       "      <th>12609</th>\n",
       "      <td>2 BHK Villa</td>\n",
       "      <td>1200</td>\n",
       "      <td>NIBM</td>\n",
       "      <td>Pune</td>\n",
       "      <td>18.476896</td>\n",
       "      <td>73.895813</td>\n",
       "      <td>32000</td>\n",
       "      <td>INR</td>\n",
       "      <td>2.0</td>\n",
       "      <td>1.0</td>\n",
       "      <td>26.666667</td>\n",
       "      <td>Posted 2 months ago</td>\n",
       "      <td>This spacious 2 bhk villa is available for ren...</td>\n",
       "      <td>1,00,000</td>\n",
       "      <td>Unfurnished</td>\n",
       "      <td>Pune</td>\n",
       "    </tr>\n",
       "    <tr>\n",
       "      <th>4103</th>\n",
       "      <td>4 BHK Independent House</td>\n",
       "      <td>5569</td>\n",
       "      <td>Vasant Vihar</td>\n",
       "      <td>Delhi</td>\n",
       "      <td>28.557390</td>\n",
       "      <td>77.157143</td>\n",
       "      <td>446465</td>\n",
       "      <td>INR</td>\n",
       "      <td>4.0</td>\n",
       "      <td>2.0</td>\n",
       "      <td>80.169689</td>\n",
       "      <td>Posted a year ago</td>\n",
       "      <td>A spacious 4 bhk independent house is availabl...</td>\n",
       "      <td>15,46,494</td>\n",
       "      <td>Unfurnished</td>\n",
       "      <td>Delhi</td>\n",
       "    </tr>\n",
       "    <tr>\n",
       "      <th>1929</th>\n",
       "      <td>3 BHK Independent Floor</td>\n",
       "      <td>2856</td>\n",
       "      <td>Vasant Vihar</td>\n",
       "      <td>Delhi</td>\n",
       "      <td>28.557390</td>\n",
       "      <td>77.157143</td>\n",
       "      <td>401015</td>\n",
       "      <td>INR</td>\n",
       "      <td>3.0</td>\n",
       "      <td>2.0</td>\n",
       "      <td>140.411415</td>\n",
       "      <td>Posted 5 months ago</td>\n",
       "      <td>Its three bhk builder floor in the super locat...</td>\n",
       "      <td>10,10,102</td>\n",
       "      <td>Unfurnished</td>\n",
       "      <td>Delhi</td>\n",
       "    </tr>\n",
       "  </tbody>\n",
       "</table>\n",
       "</div>"
      ],
      "text/plain": [
       "                     house_type  house_size      location    city   latitude  \\\n",
       "7769           2 BHK Apartment         1000  St Andrew Rd  Mumbai  19.059696   \n",
       "8381           2 BHK Apartment         1210        Panvel  Mumbai  18.953079   \n",
       "12609              2 BHK Villa         1200          NIBM    Pune  18.476896   \n",
       "4103   4 BHK Independent House         5569  Vasant Vihar   Delhi  28.557390   \n",
       "1929   3 BHK Independent Floor         2856  Vasant Vihar   Delhi  28.557390   \n",
       "\n",
       "       longitude   price currency  numBathrooms  numBalconies   priceSqFt  \\\n",
       "7769   72.826569   79000      INR           2.0           2.0   79.000000   \n",
       "8381   73.149582   10000      INR           2.0           0.0    8.264463   \n",
       "12609  73.895813   32000      INR           2.0           1.0   26.666667   \n",
       "4103   77.157143  446465      INR           4.0           2.0   80.169689   \n",
       "1929   77.157143  401015      INR           3.0           2.0  140.411415   \n",
       "\n",
       "          verificationDate                                        description  \\\n",
       "7769    Posted 4 years ago  2 BHK apartment available on rent, it is locat...   \n",
       "8381    Posted 3 years ago  Itâs a 2 bhk multistorey apartment situated ...   \n",
       "12609  Posted 2 months ago  This spacious 2 bhk villa is available for ren...   \n",
       "4103     Posted a year ago  A spacious 4 bhk independent house is availabl...   \n",
       "1929   Posted 5 months ago  Its three bhk builder floor in the super locat...   \n",
       "\n",
       "      SecurityDeposit       Status    City  \n",
       "7769         2,50,000    Furnished  Mumbai  \n",
       "8381       No Deposit  Unfurnished  Mumbai  \n",
       "12609        1,00,000  Unfurnished    Pune  \n",
       "4103        15,46,494  Unfurnished   Delhi  \n",
       "1929        10,10,102  Unfurnished   Delhi  "
      ]
     },
     "metadata": {},
     "output_type": "display_data"
    }
   ],
   "source": [
    "df.info()\n",
    "print(\"\\n\\nSample rows:\")\n",
    "display(df.sample(5))\n"
   ]
  },
  {
   "cell_type": "code",
   "execution_count": 99,
   "id": "42abb4ed",
   "metadata": {},
   "outputs": [
    {
     "name": "stdout",
     "output_type": "stream",
     "text": [
      "'city' and 'City' contain mismatched values. Manual inspection needed.\n"
     ]
    }
   ],
   "source": [
    "# Standardize and compare the two columns\n",
    "df['city'] = df['city'].str.lower().str.strip()\n",
    "df['City'] = df['City'].str.lower().str.strip()\n",
    "\n",
    "# Drop 'City' if both are the same\n",
    "if (df['city'] == df['City']).all():\n",
    "    df.drop('City', axis=1, inplace=True)\n",
    "    print(\"✅ Dropped 'City' column as it duplicates 'city'\")\n",
    "else:\n",
    "    print(\"'city' and 'City' contain mismatched values. Manual inspection needed.\")\n"
   ]
  },
  {
   "cell_type": "code",
   "execution_count": 101,
   "id": "1245fdcb",
   "metadata": {},
   "outputs": [
    {
     "data": {
      "text/html": [
       "<div>\n",
       "<style scoped>\n",
       "    .dataframe tbody tr th:only-of-type {\n",
       "        vertical-align: middle;\n",
       "    }\n",
       "\n",
       "    .dataframe tbody tr th {\n",
       "        vertical-align: top;\n",
       "    }\n",
       "\n",
       "    .dataframe thead th {\n",
       "        text-align: right;\n",
       "    }\n",
       "</style>\n",
       "<table border=\"1\" class=\"dataframe\">\n",
       "  <thead>\n",
       "    <tr style=\"text-align: right;\">\n",
       "      <th></th>\n",
       "      <th>city</th>\n",
       "      <th>City</th>\n",
       "    </tr>\n",
       "  </thead>\n",
       "  <tbody>\n",
       "    <tr>\n",
       "      <th>7724</th>\n",
       "      <td>hisar</td>\n",
       "      <td>mumbai</td>\n",
       "    </tr>\n",
       "    <tr>\n",
       "      <th>7842</th>\n",
       "      <td>hisar</td>\n",
       "      <td>mumbai</td>\n",
       "    </tr>\n",
       "    <tr>\n",
       "      <th>8548</th>\n",
       "      <td>hisar</td>\n",
       "      <td>mumbai</td>\n",
       "    </tr>\n",
       "    <tr>\n",
       "      <th>8559</th>\n",
       "      <td>hisar</td>\n",
       "      <td>mumbai</td>\n",
       "    </tr>\n",
       "    <tr>\n",
       "      <th>8849</th>\n",
       "      <td>hisar</td>\n",
       "      <td>mumbai</td>\n",
       "    </tr>\n",
       "    <tr>\n",
       "      <th>8945</th>\n",
       "      <td>hisar</td>\n",
       "      <td>mumbai</td>\n",
       "    </tr>\n",
       "    <tr>\n",
       "      <th>9409</th>\n",
       "      <td>hisar</td>\n",
       "      <td>mumbai</td>\n",
       "    </tr>\n",
       "    <tr>\n",
       "      <th>9420</th>\n",
       "      <td>hisar</td>\n",
       "      <td>mumbai</td>\n",
       "    </tr>\n",
       "  </tbody>\n",
       "</table>\n",
       "</div>"
      ],
      "text/plain": [
       "       city    City\n",
       "7724  hisar  mumbai\n",
       "7842  hisar  mumbai\n",
       "8548  hisar  mumbai\n",
       "8559  hisar  mumbai\n",
       "8849  hisar  mumbai\n",
       "8945  hisar  mumbai\n",
       "9409  hisar  mumbai\n",
       "9420  hisar  mumbai"
      ]
     },
     "metadata": {},
     "output_type": "display_data"
    },
    {
     "name": "stdout",
     "output_type": "stream",
     "text": [
      "⚠️ Total mismatches found: 8\n"
     ]
    }
   ],
   "source": [
    "mismatch = df[df['city'].str.lower().str.strip() != df['City'].str.lower().str.strip()]\n",
    "display(mismatch[['city', 'City']])\n",
    "print(f\"⚠️ Total mismatches found: {len(mismatch)}\")\n"
   ]
  },
  {
   "cell_type": "code",
   "execution_count": 102,
   "id": "ac8682ba",
   "metadata": {},
   "outputs": [],
   "source": [
    "# List of index numbers to update\n",
    "indices_to_update = [7724, 7842, 8548, 8559, 8849, 8945, 9409, 9420]\n",
    "\n",
    "# Update 'City' column to 'Delhi' for these indices\n",
    "df.loc[indices_to_update, 'City'] = 'Delhi'\n",
    "\n",
    "# Drop the 'city' column\n",
    "df.drop(columns=['city'], inplace=True)\n"
   ]
  },
  {
   "cell_type": "code",
   "execution_count": 105,
   "id": "dc0b024f",
   "metadata": {},
   "outputs": [
    {
     "name": "stdout",
     "output_type": "stream",
     "text": [
      "house_type: 34 unique values\n",
      "house_type\n",
      "2 BHK Apartment             4385\n",
      "1 BHK Apartment             2622\n",
      "3 BHK Apartment             1837\n",
      "3 BHK Independent Floor     1571\n",
      "4 BHK Independent Floor      786\n",
      "Name: count, dtype: int64 \n",
      "\n",
      "location: 702 unique values\n",
      "location\n",
      "Wagholi         743\n",
      "Andheri West    362\n",
      "Thane West      287\n",
      "Andheri East    284\n",
      "Kharghar        255\n",
      "Name: count, dtype: int64 \n",
      "\n",
      "currency: 1 unique values\n",
      "currency\n",
      "INR    13910\n",
      "Name: count, dtype: int64 \n",
      "\n",
      "Status: 3 unique values\n",
      "Status\n",
      "Unfurnished       5613\n",
      "Semi-Furnished    5548\n",
      "Furnished         2749\n",
      "Name: count, dtype: int64 \n",
      "\n",
      "City: 4 unique values\n",
      "City\n",
      "delhi     5000\n",
      "mumbai    4992\n",
      "pune      3910\n",
      "Delhi        8\n",
      "Name: count, dtype: int64 \n",
      "\n"
     ]
    }
   ],
   "source": [
    "for col in ['house_type', 'location', 'currency', 'Status', 'City']:\n",
    "    print(f\"{col}: {df[col].nunique()} unique values\")\n",
    "    print(df[col].value_counts().head(), '\\n')\n"
   ]
  },
  {
   "cell_type": "code",
   "execution_count": 106,
   "id": "3d11dfc5",
   "metadata": {},
   "outputs": [
    {
     "data": {
      "text/plain": [
       "array(['No Deposit', ' 13,000', ' 70,000', ' 56,000', ' 46,000',\n",
       "       ' 50,000', ' 66,000', ' 36,000', ' 65,41,919', ' 60,10,155'],\n",
       "      dtype=object)"
      ]
     },
     "execution_count": 106,
     "metadata": {},
     "output_type": "execute_result"
    }
   ],
   "source": [
    "df['SecurityDeposit'].unique()[:10]\n"
   ]
  },
  {
   "cell_type": "code",
   "execution_count": 109,
   "id": "19d01439",
   "metadata": {},
   "outputs": [
    {
     "name": "stdout",
     "output_type": "stream",
     "text": [
      "Remaining columns: ['house_type', 'house_size', 'location', 'latitude', 'longitude', 'price', 'numBathrooms', 'numBalconies', 'priceSqFt', 'description', 'SecurityDeposit', 'Status', 'City']\n"
     ]
    }
   ],
   "source": [
    "# Drop unnecessary columns\n",
    "df.drop(['currency', 'verificationDate'], axis=1, inplace=True)\n",
    "\n",
    "# Confirm the changes\n",
    "print(\"Remaining columns:\", df.columns.tolist())\n"
   ]
  },
  {
   "cell_type": "code",
   "execution_count": 110,
   "id": "3c57e217",
   "metadata": {},
   "outputs": [
    {
     "name": "stdout",
     "output_type": "stream",
     "text": [
      "[      0   13000   70000   56000   46000   50000   66000   36000 6541919\n",
      " 6010155]\n",
      "int64\n"
     ]
    }
   ],
   "source": [
    "def clean_deposit(value):\n",
    "    if isinstance(value, str):\n",
    "        value = value.strip()\n",
    "        if value.lower() == 'no deposit':\n",
    "            return 0\n",
    "        return int(value.replace(',', ''))\n",
    "    return value\n",
    "\n",
    "# Apply cleaning\n",
    "df['SecurityDeposit'] = df['SecurityDeposit'].apply(clean_deposit)\n",
    "\n",
    "# Check results\n",
    "print(df['SecurityDeposit'].unique()[:10])\n",
    "print(df['SecurityDeposit'].dtype)\n"
   ]
  },
  {
   "cell_type": "code",
   "execution_count": 112,
   "id": "4547987a",
   "metadata": {},
   "outputs": [
    {
     "name": "stdout",
     "output_type": "stream",
     "text": [
      "<class 'pandas.core.frame.DataFrame'>\n",
      "RangeIndex: 13910 entries, 0 to 13909\n",
      "Data columns (total 13 columns):\n",
      " #   Column           Non-Null Count  Dtype  \n",
      "---  ------           --------------  -----  \n",
      " 0   house_type       13910 non-null  object \n",
      " 1   house_size       13910 non-null  int64  \n",
      " 2   location         13910 non-null  object \n",
      " 3   latitude         13910 non-null  float64\n",
      " 4   longitude        13910 non-null  float64\n",
      " 5   price            13910 non-null  int64  \n",
      " 6   numBathrooms     13910 non-null  float64\n",
      " 7   numBalconies     13910 non-null  float64\n",
      " 8   priceSqFt        13910 non-null  float64\n",
      " 9   description      13910 non-null  object \n",
      " 10  SecurityDeposit  13910 non-null  int64  \n",
      " 11  Status           13910 non-null  object \n",
      " 12  City             13910 non-null  object \n",
      "dtypes: float64(5), int64(3), object(5)\n",
      "memory usage: 1.4+ MB\n"
     ]
    }
   ],
   "source": [
    "df.info()"
   ]
  },
  {
   "cell_type": "code",
   "execution_count": 113,
   "id": "7a9d874c",
   "metadata": {},
   "outputs": [
    {
     "name": "stdout",
     "output_type": "stream",
     "text": [
      "[ 22000  20000   8500  48000  11000  35000  39000  90000  10000  15000\n",
      "  24000  59000  45000  32500 220000  43000  30000  68000  55000  40000]\n",
      "int64\n"
     ]
    }
   ],
   "source": [
    "print(df['price'].unique()[:20])\n",
    "print(df['price'].dtype)\n"
   ]
  },
  {
   "cell_type": "markdown",
   "id": "c3409b41",
   "metadata": {},
   "source": [
    "## grouping the common places into areas and making it suitable for OHE"
   ]
  },
  {
   "cell_type": "code",
   "execution_count": 114,
   "id": "25e7485d",
   "metadata": {},
   "outputs": [
    {
     "name": "stdout",
     "output_type": "stream",
     "text": [
      "location\n",
      "Wagholi           743\n",
      "Andheri West      362\n",
      "Thane West        287\n",
      "Andheri East      284\n",
      "Kharghar          255\n",
      "Dhanori           198\n",
      "Ghansoli          196\n",
      "Wakad             195\n",
      "Defence Colony    189\n",
      "Powai             175\n",
      "Name: count, dtype: int64\n",
      "location\n",
      "Agalambe                  1\n",
      "Ganj Peth                 1\n",
      "Talegaon                  1\n",
      "Pratik Nagar Mohanwadi    1\n",
      "Shewalewadi               1\n",
      " Kharadi                  1\n",
      "Kasarwadi                 1\n",
      "Taljai Temple Road        1\n",
      "Dighi Gaonthan            1\n",
      "New DP Road               1\n",
      "Name: count, dtype: int64\n",
      "702\n"
     ]
    }
   ],
   "source": [
    "location_counts = df['location'].value_counts()\n",
    "print(location_counts.head(10))\n",
    "print(location_counts.tail(10))\n",
    "print(len(location_counts))"
   ]
  },
  {
   "cell_type": "code",
   "execution_count": null,
   "id": "d5325f5b",
   "metadata": {},
   "outputs": [],
   "source": [
    "top_locations = df['location'].value_counts().nlargest(50).index\n",
    "\n",
    "# Replace all other locations with \"Other\"\n",
    "df['location'] = df['location'].apply(lambda x: x if x in top_locations else 'Other')\n"
   ]
  },
  {
   "cell_type": "code",
   "execution_count": 117,
   "id": "bb886b80",
   "metadata": {},
   "outputs": [
    {
     "name": "stdout",
     "output_type": "stream",
     "text": [
      "house_type\n",
      "2 BHK Apartment              4385\n",
      "1 BHK Apartment              2622\n",
      "3 BHK Apartment              1837\n",
      "3 BHK Independent Floor      1571\n",
      "4 BHK Independent Floor       786\n",
      "2 BHK Independent Floor       542\n",
      "1 RK Studio Apartment         434\n",
      "4 BHK Apartment               297\n",
      "4 BHK Villa                   273\n",
      "1 BHK Independent Floor       255\n",
      "5 BHK Villa                   185\n",
      "5 BHK Independent Floor       180\n",
      "5 BHK Independent House       153\n",
      "4 BHK Independent House       128\n",
      "1 BHK Independent House        69\n",
      "3 BHK Villa                    47\n",
      "3 BHK Independent House        29\n",
      "2 BHK Independent House        28\n",
      "5 BHK Apartment                27\n",
      "2 BHK Villa                    23\n",
      "6 BHK Apartment                 6\n",
      "6 BHK Independent Floor         6\n",
      "6 BHK Villa                     5\n",
      "1 BHK Villa                     5\n",
      "6 BHK penthouse                 3\n",
      "9 BHK Independent House         3\n",
      "8 BHK Independent Floor         2\n",
      "7 BHK Independent Floor         2\n",
      "10 BHK Independent House        2\n",
      "8 BHK Independent House         1\n",
      "8 BHK Villa                     1\n",
      "7 BHK Independent House         1\n",
      "12 BHK Independent House        1\n",
      "6 BHK Independent House         1\n",
      "Name: count, dtype: int64\n",
      "0\n"
     ]
    }
   ],
   "source": [
    "print(df['house_type'].value_counts())\n",
    "print(df['house_type'].isnull().sum())\n"
   ]
  },
  {
   "cell_type": "code",
   "execution_count": 119,
   "id": "44fca4f8",
   "metadata": {},
   "outputs": [],
   "source": [
    "# Extract number of bedrooms (e.g., 1, 2, 3...) safely\n",
    "df['bhk'] = df['house_type'].str.extract(r'(\\d+)\\s*BHK')[0].astype('Int64')\n",
    "\n",
    "# Extract property type (e.g., Apartment, Villa, etc.)\n",
    "df['property_type'] = df['house_type'].str.extract(r'BHK\\s+(.*)')[0]\n",
    "\n",
    "# Drop the original column if not needed\n",
    "df.drop(columns=['house_type'], inplace=True)\n"
   ]
  },
  {
   "cell_type": "code",
   "execution_count": 120,
   "id": "c8d79902",
   "metadata": {},
   "outputs": [
    {
     "name": "stdout",
     "output_type": "stream",
     "text": [
      "bhk\n",
      "1       2951\n",
      "2       4978\n",
      "3       3484\n",
      "4       1484\n",
      "5        545\n",
      "6         21\n",
      "7          3\n",
      "8          4\n",
      "9          3\n",
      "10         2\n",
      "12         1\n",
      "<NA>     434\n",
      "Name: count, dtype: Int64\n",
      "property_type\n",
      "Apartment             9174\n",
      "Independent Floor     3344\n",
      "Villa                  539\n",
      "NaN                    434\n",
      "Independent House      416\n",
      "penthouse                3\n",
      "Name: count, dtype: int64\n"
     ]
    }
   ],
   "source": [
    "print(df['bhk'].value_counts(dropna=False).sort_index())\n",
    "print(df['property_type'].value_counts(dropna=False))\n"
   ]
  },
  {
   "cell_type": "code",
   "execution_count": 124,
   "id": "4c8e1cc8",
   "metadata": {},
   "outputs": [
    {
     "data": {
      "text/plain": [
       "numBathrooms\n",
       "1.0     2755\n",
       "2.0     6205\n",
       "3.0     2846\n",
       "4.0     1946\n",
       "5.0      117\n",
       "6.0       26\n",
       "7.0        6\n",
       "8.0        5\n",
       "9.0        3\n",
       "10.0       1\n",
       "Name: count, dtype: int64"
      ]
     },
     "execution_count": 124,
     "metadata": {},
     "output_type": "execute_result"
    }
   ],
   "source": [
    "df['numBathrooms'].value_counts(dropna=False).sort_index()\n"
   ]
  },
  {
   "cell_type": "code",
   "execution_count": 126,
   "id": "1e85ba72",
   "metadata": {},
   "outputs": [],
   "source": [
    "df = df[df['numBathrooms'] < 9].copy()\n"
   ]
  },
  {
   "cell_type": "code",
   "execution_count": 127,
   "id": "2cee82af",
   "metadata": {},
   "outputs": [
    {
     "data": {
      "text/plain": [
       "numBathrooms\n",
       "1.0    2755\n",
       "2.0    6205\n",
       "3.0    2846\n",
       "4.0    1946\n",
       "5.0     117\n",
       "6.0      26\n",
       "7.0       6\n",
       "8.0       5\n",
       "Name: count, dtype: int64"
      ]
     },
     "execution_count": 127,
     "metadata": {},
     "output_type": "execute_result"
    }
   ],
   "source": [
    "df['numBathrooms'].value_counts(dropna=False).sort_index()\n"
   ]
  },
  {
   "cell_type": "code",
   "execution_count": 128,
   "id": "a048af30",
   "metadata": {},
   "outputs": [
    {
     "data": {
      "text/plain": [
       "numBalconies\n",
       "0.0    8617\n",
       "1.0    1561\n",
       "2.0    3204\n",
       "3.0     369\n",
       "4.0     133\n",
       "5.0      16\n",
       "6.0       5\n",
       "8.0       1\n",
       "Name: count, dtype: int64"
      ]
     },
     "execution_count": 128,
     "metadata": {},
     "output_type": "execute_result"
    }
   ],
   "source": [
    "df['numBalconies'].value_counts(dropna=False).sort_index()\n"
   ]
  },
  {
   "cell_type": "code",
   "execution_count": 129,
   "id": "d0f3d904",
   "metadata": {},
   "outputs": [],
   "source": [
    "df = df[df['numBalconies'] <= 6]\n"
   ]
  },
  {
   "cell_type": "code",
   "execution_count": 130,
   "id": "334c02ed",
   "metadata": {},
   "outputs": [
    {
     "data": {
      "text/plain": [
       "numBalconies\n",
       "0.0    8617\n",
       "1.0    1561\n",
       "2.0    3204\n",
       "3.0     369\n",
       "4.0     133\n",
       "5.0      16\n",
       "6.0       5\n",
       "Name: count, dtype: int64"
      ]
     },
     "execution_count": 130,
     "metadata": {},
     "output_type": "execute_result"
    }
   ],
   "source": [
    "df['numBalconies'].value_counts().sort_index()\n"
   ]
  },
  {
   "cell_type": "code",
   "execution_count": 131,
   "id": "d6945058",
   "metadata": {},
   "outputs": [
    {
     "data": {
      "text/plain": [
       "count    13905.000000\n",
       "mean        47.414322\n",
       "std         39.476161\n",
       "min          4.000000\n",
       "25%         20.576132\n",
       "50%         32.941176\n",
       "75%         62.500000\n",
       "max        382.024843\n",
       "Name: priceSqFt, dtype: float64"
      ]
     },
     "execution_count": 131,
     "metadata": {},
     "output_type": "execute_result"
    }
   ],
   "source": [
    "df['priceSqFt'].describe()\n"
   ]
  },
  {
   "cell_type": "markdown",
   "id": "7d08ea92",
   "metadata": {},
   "source": [
    "4sq home baba re "
   ]
  },
  {
   "cell_type": "code",
   "execution_count": 132,
   "id": "06c1004a",
   "metadata": {},
   "outputs": [
    {
     "data": {
      "text/plain": [
       "priceSqFt\n",
       "20.000000     248\n",
       "25.000000     158\n",
       "105.396359    149\n",
       "33.333333     141\n",
       "50.000000     121\n",
       "30.000000     107\n",
       "40.000000      95\n",
       "26.666667      94\n",
       "66.666667      91\n",
       "22.222222      87\n",
       "51.053596      85\n",
       "16.666667      84\n",
       "68.014247      84\n",
       "23.333333      83\n",
       "105.399860     67\n",
       "100.000000     62\n",
       "55.555556      58\n",
       "10.000000      57\n",
       "51.055292      57\n",
       "46.160405      56\n",
       "Name: count, dtype: int64"
      ]
     },
     "execution_count": 132,
     "metadata": {},
     "output_type": "execute_result"
    }
   ],
   "source": [
    "df['priceSqFt'].value_counts(dropna=False).head(20)\n"
   ]
  },
  {
   "cell_type": "code",
   "execution_count": 134,
   "id": "cfa45a51",
   "metadata": {},
   "outputs": [],
   "source": [
    "df.drop(columns=['description'], inplace=True)\n"
   ]
  },
  {
   "cell_type": "code",
   "execution_count": 135,
   "id": "ef6903c9",
   "metadata": {},
   "outputs": [
    {
     "data": {
      "text/plain": [
       "location\n",
       "Other                 6470\n",
       "Wagholi                743\n",
       "Andheri West           362\n",
       "Thane West             287\n",
       "Andheri East           284\n",
       "Kharghar               255\n",
       "Dhanori                198\n",
       "Ghansoli               196\n",
       "Wakad                  195\n",
       "Defence Colony         189\n",
       "Powai                  175\n",
       "Chembur                158\n",
       "Hinjewadi              157\n",
       "Borivali East          153\n",
       "Greater kailash 1      153\n",
       "Santacruz East         151\n",
       "Chattarpur             145\n",
       "Kharadi                145\n",
       "Vasant Vihar           145\n",
       "Lohegaon               142\n",
       "Jor bagh               125\n",
       "Safdarjung Enclave     118\n",
       "Baner                  117\n",
       "Hadapsar               116\n",
       "Kalyan West            115\n",
       "Goregaon East          114\n",
       "Mira Road East         112\n",
       "Saket                  111\n",
       "Dombivali              110\n",
       "Goregaon West          108\n",
       "Mulund West            108\n",
       "Hauz Khas              107\n",
       "Greater Kailash        107\n",
       "Panchsheel Park        105\n",
       "Golf Links             105\n",
       "Kondhwa                103\n",
       "Bandra West            103\n",
       "Malad West             101\n",
       "Anand Niketan           99\n",
       "Aundh                   98\n",
       "Green Park              98\n",
       "Bhandup West            98\n",
       "Pimple Saudagar         95\n",
       "Paschim Vihar           94\n",
       "Kanjurmarg              92\n",
       "Dhayari                 92\n",
       "Greater Kailash II      92\n",
       "Undri                   91\n",
       "Gulmohar park           90\n",
       "Vasant Kunj             89\n",
       "Janakpuri               89\n",
       "Name: count, dtype: int64"
      ]
     },
     "execution_count": 135,
     "metadata": {},
     "output_type": "execute_result"
    }
   ],
   "source": [
    "df['location'].value_counts(dropna=False)\n"
   ]
  },
  {
   "cell_type": "code",
   "execution_count": 136,
   "id": "2f0622f8",
   "metadata": {},
   "outputs": [],
   "source": [
    "# Step 1: Group rare locations as 'Other'\n",
    "location_counts = df['location'].value_counts()\n",
    "rare_locations = location_counts[location_counts < 50].index\n",
    "df['location'] = df['location'].replace(rare_locations, 'Other')\n",
    "\n",
    "# Step 2: Label encode\n",
    "from sklearn.preprocessing import LabelEncoder\n",
    "le_location = LabelEncoder()\n",
    "df['location'] = le_location.fit_transform(df['location'])\n"
   ]
  }
 ],
 "metadata": {
  "language_info": {
   "name": "python"
  }
 },
 "nbformat": 4,
 "nbformat_minor": 5
}
