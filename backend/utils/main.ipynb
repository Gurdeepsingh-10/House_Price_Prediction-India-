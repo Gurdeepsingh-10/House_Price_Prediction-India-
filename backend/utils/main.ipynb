{
 "cells": [
  {
   "cell_type": "markdown",
   "id": "1e506f95",
   "metadata": {},
   "source": [
    "## Pre Processing and EDA"
   ]
  },
  {
   "cell_type": "code",
   "execution_count": 2,
   "id": "f1d94380",
   "metadata": {},
   "outputs": [
    {
     "data": {
      "text/html": [
       "<div>\n",
       "<style scoped>\n",
       "    .dataframe tbody tr th:only-of-type {\n",
       "        vertical-align: middle;\n",
       "    }\n",
       "\n",
       "    .dataframe tbody tr th {\n",
       "        vertical-align: top;\n",
       "    }\n",
       "\n",
       "    .dataframe thead th {\n",
       "        text-align: right;\n",
       "    }\n",
       "</style>\n",
       "<table border=\"1\" class=\"dataframe\">\n",
       "  <thead>\n",
       "    <tr style=\"text-align: right;\">\n",
       "      <th></th>\n",
       "      <th>house_type</th>\n",
       "      <th>house_size</th>\n",
       "      <th>location</th>\n",
       "      <th>city</th>\n",
       "      <th>latitude</th>\n",
       "      <th>longitude</th>\n",
       "      <th>price</th>\n",
       "      <th>currency</th>\n",
       "      <th>numBathrooms</th>\n",
       "      <th>numBalconies</th>\n",
       "      <th>isNegotiable</th>\n",
       "      <th>priceSqFt</th>\n",
       "      <th>verificationDate</th>\n",
       "      <th>description</th>\n",
       "      <th>SecurityDeposit</th>\n",
       "      <th>Status</th>\n",
       "      <th>City</th>\n",
       "    </tr>\n",
       "  </thead>\n",
       "  <tbody>\n",
       "    <tr>\n",
       "      <th>0</th>\n",
       "      <td>1 RK Studio Apartment</td>\n",
       "      <td>400 sq ft</td>\n",
       "      <td>Kalkaji</td>\n",
       "      <td>Delhi</td>\n",
       "      <td>28.545561</td>\n",
       "      <td>77.254349</td>\n",
       "      <td>22000</td>\n",
       "      <td>INR</td>\n",
       "      <td>1.0</td>\n",
       "      <td>NaN</td>\n",
       "      <td>NaN</td>\n",
       "      <td>NaN</td>\n",
       "      <td>Posted a day ago</td>\n",
       "      <td>Fully furnished, loaded with amenities &amp; gadge...</td>\n",
       "      <td>No Deposit</td>\n",
       "      <td>Furnished</td>\n",
       "      <td>Delhi</td>\n",
       "    </tr>\n",
       "    <tr>\n",
       "      <th>1</th>\n",
       "      <td>1 RK Studio Apartment</td>\n",
       "      <td>400 sq ft</td>\n",
       "      <td>Mansarover Garden</td>\n",
       "      <td>Delhi</td>\n",
       "      <td>28.643259</td>\n",
       "      <td>77.132828</td>\n",
       "      <td>20000</td>\n",
       "      <td>INR</td>\n",
       "      <td>1.0</td>\n",
       "      <td>NaN</td>\n",
       "      <td>NaN</td>\n",
       "      <td>NaN</td>\n",
       "      <td>Posted 9 days ago</td>\n",
       "      <td>Here is an excellent 1 BHK Independent Floor a...</td>\n",
       "      <td>No Deposit</td>\n",
       "      <td>Furnished</td>\n",
       "      <td>Delhi</td>\n",
       "    </tr>\n",
       "    <tr>\n",
       "      <th>2</th>\n",
       "      <td>2 BHK Independent Floor</td>\n",
       "      <td>500 sq ft</td>\n",
       "      <td>Uttam Nagar</td>\n",
       "      <td>Delhi</td>\n",
       "      <td>28.618677</td>\n",
       "      <td>77.053352</td>\n",
       "      <td>8500</td>\n",
       "      <td>INR</td>\n",
       "      <td>1.0</td>\n",
       "      <td>NaN</td>\n",
       "      <td>NaN</td>\n",
       "      <td>NaN</td>\n",
       "      <td>Posted 12 days ago</td>\n",
       "      <td>Zero Brokerage.\\n\\n2 Room set, Govt bijali Met...</td>\n",
       "      <td>No Deposit</td>\n",
       "      <td>Semi-Furnished</td>\n",
       "      <td>Delhi</td>\n",
       "    </tr>\n",
       "    <tr>\n",
       "      <th>3</th>\n",
       "      <td>3 BHK Independent House</td>\n",
       "      <td>1,020 sq ft</td>\n",
       "      <td>Model Town</td>\n",
       "      <td>Delhi</td>\n",
       "      <td>28.712898</td>\n",
       "      <td>77.180000</td>\n",
       "      <td>48000</td>\n",
       "      <td>INR</td>\n",
       "      <td>3.0</td>\n",
       "      <td>NaN</td>\n",
       "      <td>NaN</td>\n",
       "      <td>NaN</td>\n",
       "      <td>Posted a year ago</td>\n",
       "      <td>Itâs a 3 bhk independent house situated in M...</td>\n",
       "      <td>No Deposit</td>\n",
       "      <td>Furnished</td>\n",
       "      <td>Delhi</td>\n",
       "    </tr>\n",
       "    <tr>\n",
       "      <th>4</th>\n",
       "      <td>2 BHK Apartment</td>\n",
       "      <td>810 sq ft</td>\n",
       "      <td>Sector 13 Rohini</td>\n",
       "      <td>Delhi</td>\n",
       "      <td>28.723539</td>\n",
       "      <td>77.131424</td>\n",
       "      <td>20000</td>\n",
       "      <td>INR</td>\n",
       "      <td>2.0</td>\n",
       "      <td>NaN</td>\n",
       "      <td>NaN</td>\n",
       "      <td>NaN</td>\n",
       "      <td>Posted a year ago</td>\n",
       "      <td>Well designed 2 bhk multistorey apartment is a...</td>\n",
       "      <td>No Deposit</td>\n",
       "      <td>Unfurnished</td>\n",
       "      <td>Delhi</td>\n",
       "    </tr>\n",
       "  </tbody>\n",
       "</table>\n",
       "</div>"
      ],
      "text/plain": [
       "                 house_type   house_size           location   city   latitude  \\\n",
       "0    1 RK Studio Apartment     400 sq ft            Kalkaji  Delhi  28.545561   \n",
       "1    1 RK Studio Apartment     400 sq ft  Mansarover Garden  Delhi  28.643259   \n",
       "2  2 BHK Independent Floor     500 sq ft        Uttam Nagar  Delhi  28.618677   \n",
       "3  3 BHK Independent House   1,020 sq ft         Model Town  Delhi  28.712898   \n",
       "4          2 BHK Apartment     810 sq ft   Sector 13 Rohini  Delhi  28.723539   \n",
       "\n",
       "   longitude  price currency  numBathrooms  numBalconies isNegotiable  \\\n",
       "0  77.254349  22000      INR           1.0           NaN          NaN   \n",
       "1  77.132828  20000      INR           1.0           NaN          NaN   \n",
       "2  77.053352   8500      INR           1.0           NaN          NaN   \n",
       "3  77.180000  48000      INR           3.0           NaN          NaN   \n",
       "4  77.131424  20000      INR           2.0           NaN          NaN   \n",
       "\n",
       "   priceSqFt    verificationDate  \\\n",
       "0        NaN    Posted a day ago   \n",
       "1        NaN   Posted 9 days ago   \n",
       "2        NaN  Posted 12 days ago   \n",
       "3        NaN   Posted a year ago   \n",
       "4        NaN   Posted a year ago   \n",
       "\n",
       "                                         description SecurityDeposit  \\\n",
       "0  Fully furnished, loaded with amenities & gadge...      No Deposit   \n",
       "1  Here is an excellent 1 BHK Independent Floor a...      No Deposit   \n",
       "2  Zero Brokerage.\\n\\n2 Room set, Govt bijali Met...      No Deposit   \n",
       "3  Itâs a 3 bhk independent house situated in M...      No Deposit   \n",
       "4  Well designed 2 bhk multistorey apartment is a...      No Deposit   \n",
       "\n",
       "           Status   City  \n",
       "0       Furnished  Delhi  \n",
       "1       Furnished  Delhi  \n",
       "2  Semi-Furnished  Delhi  \n",
       "3       Furnished  Delhi  \n",
       "4     Unfurnished  Delhi  "
      ]
     },
     "execution_count": 2,
     "metadata": {},
     "output_type": "execute_result"
    }
   ],
   "source": [
    "import pandas as pd\n",
    "\n",
    "# Load the combined dataset\n",
    "df = pd.read_csv(\"../data/processed/combined_data.csv\")\n",
    "\n",
    "# Basic preview\n",
    "df.head()\n"
   ]
  },
  {
   "cell_type": "code",
   "execution_count": 3,
   "id": "84f2fbb4",
   "metadata": {},
   "outputs": [
    {
     "data": {
      "text/plain": [
       "(13910, 17)"
      ]
     },
     "execution_count": 3,
     "metadata": {},
     "output_type": "execute_result"
    }
   ],
   "source": [
    "df.shape"
   ]
  },
  {
   "cell_type": "code",
   "execution_count": 4,
   "id": "8fe40837",
   "metadata": {},
   "outputs": [
    {
     "data": {
      "text/plain": [
       "['house_type',\n",
       " 'house_size',\n",
       " 'location',\n",
       " 'city',\n",
       " 'latitude',\n",
       " 'longitude',\n",
       " 'price',\n",
       " 'currency',\n",
       " 'numBathrooms',\n",
       " 'numBalconies',\n",
       " 'isNegotiable',\n",
       " 'priceSqFt',\n",
       " 'verificationDate',\n",
       " 'description',\n",
       " 'SecurityDeposit',\n",
       " 'Status',\n",
       " 'City']"
      ]
     },
     "execution_count": 4,
     "metadata": {},
     "output_type": "execute_result"
    }
   ],
   "source": [
    "df.columns.tolist()"
   ]
  },
  {
   "cell_type": "code",
   "execution_count": 5,
   "id": "c9f4ff02",
   "metadata": {},
   "outputs": [
    {
     "data": {
      "text/plain": [
       "house_type              0\n",
       "house_size              0\n",
       "location                0\n",
       "city                    0\n",
       "latitude                0\n",
       "longitude               0\n",
       "price                   0\n",
       "currency                0\n",
       "numBathrooms           56\n",
       "numBalconies         8619\n",
       "isNegotiable        12634\n",
       "priceSqFt           13910\n",
       "verificationDate        0\n",
       "description           831\n",
       "SecurityDeposit         0\n",
       "Status                  0\n",
       "City                    0\n",
       "dtype: int64"
      ]
     },
     "execution_count": 5,
     "metadata": {},
     "output_type": "execute_result"
    }
   ],
   "source": [
    "df.isnull().sum()"
   ]
  },
  {
   "cell_type": "markdown",
   "id": "114ee9df",
   "metadata": {},
   "source": [
    "#### house_type              0\n",
    "#### house_size              0\n",
    "#### location                0\n",
    "#### city                    0\n",
    "#### latitude                0\n",
    "#### longitude               0\n",
    "#### price                   0\n",
    "#### currency                0\n",
    "#### numBathrooms           56\n",
    "#### numBalconies         8619\n",
    "#### isNegotiable        12634\n",
    "#### priceSqFt           13910\n",
    "#### verificationDate        0\n",
    "#### description           831\n",
    "#### SecurityDeposit         0\n",
    "#### Status                  0\n",
    "#### City                    0\n"
   ]
  },
  {
   "cell_type": "code",
   "execution_count": 6,
   "id": "b75b9ca0",
   "metadata": {},
   "outputs": [
    {
     "name": "stderr",
     "output_type": "stream",
     "text": [
      "C:\\Users\\HP\\AppData\\Local\\Temp\\ipykernel_8556\\3022877763.py:10: FutureWarning: A value is trying to be set on a copy of a DataFrame or Series through chained assignment using an inplace method.\n",
      "The behavior will change in pandas 3.0. This inplace method will never work because the intermediate object on which we are setting values always behaves as a copy.\n",
      "\n",
      "For example, when doing 'df[col].method(value, inplace=True)', try using 'df.method({col: value}, inplace=True)' or df[col] = df[col].method(value) instead, to perform the operation inplace on the original object.\n",
      "\n",
      "\n",
      "  df['numBathrooms'].fillna(df['numBathrooms'].median(), inplace=True)\n"
     ]
    }
   ],
   "source": [
    "#### numBathrooms           56      int \n",
    "#### numBalconies         8619      int \n",
    "#### isNegotiable        12634      bool\n",
    "#### priceSqFt           13910      float64\n",
    "#### description         831        object\n",
    "\n",
    "\n",
    "\n",
    "# Gonna fill the numBathrooms with median of the cols\n",
    "df['numBathrooms'].fillna(df['numBathrooms'].median(), inplace=True)"
   ]
  },
  {
   "cell_type": "code",
   "execution_count": 7,
   "id": "85c6e888",
   "metadata": {},
   "outputs": [
    {
     "name": "stderr",
     "output_type": "stream",
     "text": [
      "C:\\Users\\HP\\AppData\\Local\\Temp\\ipykernel_8556\\959156555.py:2: FutureWarning: A value is trying to be set on a copy of a DataFrame or Series through chained assignment using an inplace method.\n",
      "The behavior will change in pandas 3.0. This inplace method will never work because the intermediate object on which we are setting values always behaves as a copy.\n",
      "\n",
      "For example, when doing 'df[col].method(value, inplace=True)', try using 'df.method({col: value}, inplace=True)' or df[col] = df[col].method(value) instead, to perform the operation inplace on the original object.\n",
      "\n",
      "\n",
      "  df['numBalconies'].fillna(0, inplace=True)\n"
     ]
    }
   ],
   "source": [
    "# Now fill the values of numBalconies with 0 as because the it has near about 50% data missing\n",
    "df['numBalconies'].fillna(0, inplace=True)"
   ]
  },
  {
   "cell_type": "code",
   "execution_count": 8,
   "id": "3347efe2",
   "metadata": {},
   "outputs": [],
   "source": [
    "# We will drop this column as it has more than 80% percentage of missing values so it will be removed \n",
    "df.drop(columns=['isNegotiable'], inplace=True)\n"
   ]
  },
  {
   "cell_type": "code",
   "execution_count": 9,
   "id": "aacd118b",
   "metadata": {},
   "outputs": [],
   "source": [
    "# Step 1: Remove commas and 'sq ft', then strip whitespace\n",
    "df['house_size'] = df['house_size'].str.replace(',', '')\n",
    "df['house_size'] = df['house_size'].str.replace('sq ft', '')\n",
    "df['house_size'] = df['house_size'].str.strip()\n",
    "\n",
    "# Step 2: Convert to numeric\n",
    "df['house_size'] = pd.to_numeric(df['house_size'], errors='coerce')\n",
    "\n",
    "\n",
    "\n",
    "df['priceSqFt'] = df['price'] / df['house_size']\n"
   ]
  },
  {
   "cell_type": "code",
   "execution_count": 10,
   "id": "33ad06f2",
   "metadata": {},
   "outputs": [
    {
     "data": {
      "text/plain": [
       "0     400\n",
       "1     400\n",
       "2     500\n",
       "3    1020\n",
       "4     810\n",
       "Name: house_size, dtype: int64"
      ]
     },
     "execution_count": 10,
     "metadata": {},
     "output_type": "execute_result"
    }
   ],
   "source": [
    "df.house_size.head( )           "
   ]
  },
  {
   "cell_type": "code",
   "execution_count": 11,
   "id": "554756fc",
   "metadata": {},
   "outputs": [
    {
     "data": {
      "text/plain": [
       "0    22000\n",
       "1    20000\n",
       "2     8500\n",
       "3    48000\n",
       "4    20000\n",
       "Name: price, dtype: int64"
      ]
     },
     "execution_count": 11,
     "metadata": {},
     "output_type": "execute_result"
    }
   ],
   "source": [
    "df.price.head( )"
   ]
  },
  {
   "cell_type": "code",
   "execution_count": 12,
   "id": "9fe1ad69",
   "metadata": {},
   "outputs": [
    {
     "name": "stderr",
     "output_type": "stream",
     "text": [
      "C:\\Users\\HP\\AppData\\Local\\Temp\\ipykernel_8556\\2523289420.py:1: FutureWarning: A value is trying to be set on a copy of a DataFrame or Series through chained assignment using an inplace method.\n",
      "The behavior will change in pandas 3.0. This inplace method will never work because the intermediate object on which we are setting values always behaves as a copy.\n",
      "\n",
      "For example, when doing 'df[col].method(value, inplace=True)', try using 'df.method({col: value}, inplace=True)' or df[col] = df[col].method(value) instead, to perform the operation inplace on the original object.\n",
      "\n",
      "\n",
      "  df['description'].fillna(\"No description available\", inplace=True)\n"
     ]
    }
   ],
   "source": [
    "df['description'].fillna(\"No description available\", inplace=True)"
   ]
  },
  {
   "cell_type": "code",
   "execution_count": 13,
   "id": "f97f2e12",
   "metadata": {},
   "outputs": [
    {
     "data": {
      "text/plain": [
       "house_type          0\n",
       "house_size          0\n",
       "location            0\n",
       "city                0\n",
       "latitude            0\n",
       "longitude           0\n",
       "price               0\n",
       "currency            0\n",
       "numBathrooms        0\n",
       "numBalconies        0\n",
       "priceSqFt           0\n",
       "verificationDate    0\n",
       "description         0\n",
       "SecurityDeposit     0\n",
       "Status              0\n",
       "City                0\n",
       "dtype: int64"
      ]
     },
     "execution_count": 13,
     "metadata": {},
     "output_type": "execute_result"
    }
   ],
   "source": [
    "df.isnull().sum()"
   ]
  },
  {
   "cell_type": "code",
   "execution_count": 14,
   "id": "5c54894b",
   "metadata": {},
   "outputs": [
    {
     "data": {
      "text/html": [
       "<div>\n",
       "<style scoped>\n",
       "    .dataframe tbody tr th:only-of-type {\n",
       "        vertical-align: middle;\n",
       "    }\n",
       "\n",
       "    .dataframe tbody tr th {\n",
       "        vertical-align: top;\n",
       "    }\n",
       "\n",
       "    .dataframe thead th {\n",
       "        text-align: right;\n",
       "    }\n",
       "</style>\n",
       "<table border=\"1\" class=\"dataframe\">\n",
       "  <thead>\n",
       "    <tr style=\"text-align: right;\">\n",
       "      <th></th>\n",
       "      <th>house_type</th>\n",
       "      <th>house_size</th>\n",
       "      <th>location</th>\n",
       "      <th>city</th>\n",
       "      <th>latitude</th>\n",
       "      <th>longitude</th>\n",
       "      <th>price</th>\n",
       "      <th>currency</th>\n",
       "      <th>numBathrooms</th>\n",
       "      <th>numBalconies</th>\n",
       "      <th>priceSqFt</th>\n",
       "      <th>verificationDate</th>\n",
       "      <th>description</th>\n",
       "      <th>SecurityDeposit</th>\n",
       "      <th>Status</th>\n",
       "      <th>City</th>\n",
       "    </tr>\n",
       "  </thead>\n",
       "  <tbody>\n",
       "    <tr>\n",
       "      <th>0</th>\n",
       "      <td>1 RK Studio Apartment</td>\n",
       "      <td>400</td>\n",
       "      <td>Kalkaji</td>\n",
       "      <td>Delhi</td>\n",
       "      <td>28.545561</td>\n",
       "      <td>77.254349</td>\n",
       "      <td>22000</td>\n",
       "      <td>INR</td>\n",
       "      <td>1.0</td>\n",
       "      <td>0.0</td>\n",
       "      <td>55.000000</td>\n",
       "      <td>Posted a day ago</td>\n",
       "      <td>Fully furnished, loaded with amenities &amp; gadge...</td>\n",
       "      <td>No Deposit</td>\n",
       "      <td>Furnished</td>\n",
       "      <td>Delhi</td>\n",
       "    </tr>\n",
       "    <tr>\n",
       "      <th>1</th>\n",
       "      <td>1 RK Studio Apartment</td>\n",
       "      <td>400</td>\n",
       "      <td>Mansarover Garden</td>\n",
       "      <td>Delhi</td>\n",
       "      <td>28.643259</td>\n",
       "      <td>77.132828</td>\n",
       "      <td>20000</td>\n",
       "      <td>INR</td>\n",
       "      <td>1.0</td>\n",
       "      <td>0.0</td>\n",
       "      <td>50.000000</td>\n",
       "      <td>Posted 9 days ago</td>\n",
       "      <td>Here is an excellent 1 BHK Independent Floor a...</td>\n",
       "      <td>No Deposit</td>\n",
       "      <td>Furnished</td>\n",
       "      <td>Delhi</td>\n",
       "    </tr>\n",
       "    <tr>\n",
       "      <th>2</th>\n",
       "      <td>2 BHK Independent Floor</td>\n",
       "      <td>500</td>\n",
       "      <td>Uttam Nagar</td>\n",
       "      <td>Delhi</td>\n",
       "      <td>28.618677</td>\n",
       "      <td>77.053352</td>\n",
       "      <td>8500</td>\n",
       "      <td>INR</td>\n",
       "      <td>1.0</td>\n",
       "      <td>0.0</td>\n",
       "      <td>17.000000</td>\n",
       "      <td>Posted 12 days ago</td>\n",
       "      <td>Zero Brokerage.\\n\\n2 Room set, Govt bijali Met...</td>\n",
       "      <td>No Deposit</td>\n",
       "      <td>Semi-Furnished</td>\n",
       "      <td>Delhi</td>\n",
       "    </tr>\n",
       "    <tr>\n",
       "      <th>3</th>\n",
       "      <td>3 BHK Independent House</td>\n",
       "      <td>1020</td>\n",
       "      <td>Model Town</td>\n",
       "      <td>Delhi</td>\n",
       "      <td>28.712898</td>\n",
       "      <td>77.180000</td>\n",
       "      <td>48000</td>\n",
       "      <td>INR</td>\n",
       "      <td>3.0</td>\n",
       "      <td>0.0</td>\n",
       "      <td>47.058824</td>\n",
       "      <td>Posted a year ago</td>\n",
       "      <td>Itâs a 3 bhk independent house situated in M...</td>\n",
       "      <td>No Deposit</td>\n",
       "      <td>Furnished</td>\n",
       "      <td>Delhi</td>\n",
       "    </tr>\n",
       "    <tr>\n",
       "      <th>4</th>\n",
       "      <td>2 BHK Apartment</td>\n",
       "      <td>810</td>\n",
       "      <td>Sector 13 Rohini</td>\n",
       "      <td>Delhi</td>\n",
       "      <td>28.723539</td>\n",
       "      <td>77.131424</td>\n",
       "      <td>20000</td>\n",
       "      <td>INR</td>\n",
       "      <td>2.0</td>\n",
       "      <td>0.0</td>\n",
       "      <td>24.691358</td>\n",
       "      <td>Posted a year ago</td>\n",
       "      <td>Well designed 2 bhk multistorey apartment is a...</td>\n",
       "      <td>No Deposit</td>\n",
       "      <td>Unfurnished</td>\n",
       "      <td>Delhi</td>\n",
       "    </tr>\n",
       "  </tbody>\n",
       "</table>\n",
       "</div>"
      ],
      "text/plain": [
       "                 house_type  house_size           location   city   latitude  \\\n",
       "0    1 RK Studio Apartment          400            Kalkaji  Delhi  28.545561   \n",
       "1    1 RK Studio Apartment          400  Mansarover Garden  Delhi  28.643259   \n",
       "2  2 BHK Independent Floor          500        Uttam Nagar  Delhi  28.618677   \n",
       "3  3 BHK Independent House         1020         Model Town  Delhi  28.712898   \n",
       "4          2 BHK Apartment          810   Sector 13 Rohini  Delhi  28.723539   \n",
       "\n",
       "   longitude  price currency  numBathrooms  numBalconies  priceSqFt  \\\n",
       "0  77.254349  22000      INR           1.0           0.0  55.000000   \n",
       "1  77.132828  20000      INR           1.0           0.0  50.000000   \n",
       "2  77.053352   8500      INR           1.0           0.0  17.000000   \n",
       "3  77.180000  48000      INR           3.0           0.0  47.058824   \n",
       "4  77.131424  20000      INR           2.0           0.0  24.691358   \n",
       "\n",
       "     verificationDate                                        description  \\\n",
       "0    Posted a day ago  Fully furnished, loaded with amenities & gadge...   \n",
       "1   Posted 9 days ago  Here is an excellent 1 BHK Independent Floor a...   \n",
       "2  Posted 12 days ago  Zero Brokerage.\\n\\n2 Room set, Govt bijali Met...   \n",
       "3   Posted a year ago  Itâs a 3 bhk independent house situated in M...   \n",
       "4   Posted a year ago  Well designed 2 bhk multistorey apartment is a...   \n",
       "\n",
       "  SecurityDeposit          Status   City  \n",
       "0      No Deposit       Furnished  Delhi  \n",
       "1      No Deposit       Furnished  Delhi  \n",
       "2      No Deposit  Semi-Furnished  Delhi  \n",
       "3      No Deposit       Furnished  Delhi  \n",
       "4      No Deposit     Unfurnished  Delhi  "
      ]
     },
     "execution_count": 14,
     "metadata": {},
     "output_type": "execute_result"
    }
   ],
   "source": [
    "df.head()"
   ]
  },
  {
   "cell_type": "code",
   "execution_count": 15,
   "id": "dc351d0a",
   "metadata": {},
   "outputs": [
    {
     "name": "stdout",
     "output_type": "stream",
     "text": [
      "Categorical columns: ['house_type', 'location', 'city', 'currency', 'verificationDate', 'description', 'SecurityDeposit', 'Status', 'City']\n",
      "\n",
      "Column: house_type\n",
      "['1 RK Studio Apartment ' '2 BHK Independent Floor '\n",
      " '3 BHK Independent House ' '2 BHK Apartment ' '3 BHK Apartment '\n",
      " '3 BHK Independent Floor ' '4 BHK Independent Floor '\n",
      " '1 BHK Independent Floor ' '1 BHK Apartment ' '8 BHK Independent Floor ']\n",
      "\n",
      "Column: location\n",
      "['Kalkaji' 'Mansarover Garden' 'Uttam Nagar' 'Model Town'\n",
      " 'Sector 13 Rohini' 'DLF Farms' 'laxmi nagar' 'Swasthya Vihar' 'Janakpuri'\n",
      " 'Pitampura']\n",
      "\n",
      "Column: city\n",
      "['Delhi' 'Mumbai' 'Hisar' 'Pune']\n",
      "\n",
      "Column: currency\n",
      "['INR']\n",
      "\n",
      "Column: verificationDate\n",
      "['Posted a day ago' 'Posted 9 days ago' 'Posted 12 days ago'\n",
      " 'Posted a year ago' 'Posted 2 years ago' 'Posted 3 years ago'\n",
      " 'Posted 2 months ago' 'Posted a month ago' 'Posted 17 days ago'\n",
      " 'Posted 13 days ago']\n",
      "\n",
      "Column: description\n",
      "['Fully furnished, loaded with amenities & gadgets- 1RK + lobby Set, with all facilities, Park facing with front wide open terrace & backside Balcony, fully secured. Walkable distance to metro & market. Free daily room cleaning, 24hours free watersupply, Ideal accomodation for male professional working executive. More About This Property This is a modern and stylish home available for affordable rent in Delhi. It is a 1 BHK Independent Floor situated at Kalkaji. Designed to meet your lifestyle needs, the Independent Floor provides a range of modern amenities for the comfort of the residents. It is Fully Furnished. Modern home seekers will experience a comfortable living in this 1 BHK property. The Independent Floor is on 3 floor, and the total number of floors is 3. The 1 BHK unit is elegantly designed to meet your housing needs. The Independent Floor has 1 bedroom. It has 1 bathroom. The 1 BHK unit also includes 1 balcony giving splendid views of the surroundings. It is a South-East facing unit, designed as per vaastu principles. The built-up area of the Independent Floor is 400 Square feet. The carpet area is 300 Square feet. The monthly rent for the Independent Floor is Rs 22000. The security deposit is Rs 22000. Project Highlights The developer also offers 1 BHK units as a part of this project. The property offers various facilities for residents such as Garden, Four Wheeler Parking. Residents have access to power backup facility. Modern safety features like cctv facility have also been installed in the property. The locality Kalkaji enjoys good connectivity and convenience in terms of a well-developed social infrastructure. There are hospitals in the vicinity like Triton Hospital, Best Hospital in New Delhi - Piles | Fissure | Fistula | Circumcision | Hernia | Varicose veins, and DKH Diagnostics'\n",
      " 'Here is an excellent 1 BHK Independent Floor available for rent in Delhi. Surrounded by natural greens and equipped with numerous amenities, this rented 1 BHK house offers a comfortable lifestyle for families. It is a spacious property nestled in Mansarover Garden that enjoys good connectivity to major landmarks of the city. The Independent Floor is designed as per modern construction standards. It has 1 bedroom and 1 bathroom. The 1 BHK unit is thoughtfully designed to meet the space needs of a modern family and allows ample sunlight and fresh air. There are 1 balcony in this unit where residents can spend a relaxed evening and enjoy excellent views of the surroundings. This Independent Floor has 400 square_feet of built-up area. The monthly rent payable is Rs 20000, and the security deposit to be paid is Rs 20000. Project Highlights Several lifestyle amenities have been provided for the residents of this Independent Floor to ensure a sophisticated living. The locality Mansarover Garden provides comfortable social infrastructure'\n",
      " 'Zero Brokerage.\\n\\n2 Room set, Govt bijali Meter, Govt water supply, 25ft road, nearby market, car parking -extra charge, bike parking free, Electric Gate Lock, Seprate water Motor,  More About This Property Your search for a spacious home at affordable rent in Delhi ends here. This 2 BHK Independent Floor in Uttam Nagar is all that you have been looking for! Designed as North-West facing, the unit is compliant with vaastu principles. The 2 BHK property offers a serene environment with excellent views of the city. This Independent Floor is equipped with the latest lifestyle amenities and all the conveniences at the doorstep. It is Semi Furnished Independent Floor. This unit is built on floor 2 out of a total 3 floors. The Independent Floor has been thoughtfully designed to meet a family?s space needs, with 2 bedrooms. It includes 1 bathroom. There are 2 balcony that lets you enjoy scenic views. The built-up area of this Independent Floor is 500 Square feet. The carpet area is 450 Square feet. Residents need to pay a monthly rent of Rs 8500. The security deposit payable is Rs 8500. Project Highlights The Independent Floor is in proximity to major landmarks in Delhi. Families of this Independent Floor have easy access to healthcare centres when they need medical assistance, especially in emergencies'\n",
      " 'Itâ\\x80\\x99s a 3 bhk independent house situated in Model Town, Delhi. It has area of 1020 sqft and is available at a rent of Rs. 48,000. It has 1 tv, 1 refrigerator, 1 sofa and 1 ac. It also has 1 bed. This residential property is ready-to-move-in. Please contact for more details. '\n",
      " \"Well designed 2 bhk multistorey apartment is available at a prime location in GS Apartment. It has an area of 810 sqft . The property is available at a monthly rental of Rs. 20,000 . It is an unfurnished property. This residential property is ready-to-move-in. The time you'll spend here will become the greatest moment of your life that will also help you to relieve, relax & evoke a great sense of happiness. The site is in close proximity to various civic utilities. \"\n",
      " \"Well designed 3 bhk multistorey apartment is available at a prime location in DLF Farms. It has a built-up area of 750 sqft and is available for rent at Rs. 11,000 per month . It is a 5 year old ready-to-move-in property. The time you'll spend here will become the greatest moment of your life that will also help you to relieve, relax & evoke a great sense of happiness. The site is in close proximity to various civic utilities. \"\n",
      " 'Itâ\\x80\\x99s a 3 bhk builder floor situated in laxmi nagar. It has an area of 1300 sqft with a carpet area of 1300 sqft . The property is available at a monthly rental of Rs. 20,000 . The house is furnished. This residential property is ready-to-move-in. It is made in way to provide a comfortable living. It is situated in the proximity of all the important facilities. If you are interested, please contact us for more details. '\n",
      " 'Well designed 3 bhk builder floor is available at a prime location in Swasthya Vihar. It has an area of 1200 sqft . The property is available at a monthly rental of Rs. 35,000 . It is a furnished property. It is a ready-to-move-in property. It is made in way to provide a comfortable living for the residents. It is situated in the proximity of all the important facilities. Please contact for more details. '\n",
      " 'A spacious 3 bhk independent house is available for rental in Janakpuri, Delhi. It has an area of 1100 sqft . The property is available at a monthly rental of Rs. 39,000 . The house is semi-furnished. This residential property is ready-to-move-in. It is made in way to provide a comfortable living for the residents. The society is well connected by different modes of transportation. Please contact us for more details. '\n",
      " 'A spacious 4 bhk builder floor is available for rental in Pitampura, Delhi. It has area of 2500 sqft and is available at a rent of Rs. 90,000. The house is semi-furnished. This residential property is ready-to-move-in. It is made in way to provide a comfortable living for the residents. It is well connected to the city areas. If you are interested, please contact us for more details. ']\n",
      "\n",
      "Column: SecurityDeposit\n",
      "['No Deposit' ' 13,000' ' 70,000' ' 56,000' ' 46,000' ' 50,000' ' 66,000'\n",
      " ' 36,000' ' 65,41,919' ' 60,10,155']\n",
      "\n",
      "Column: Status\n",
      "['Furnished' 'Semi-Furnished' 'Unfurnished']\n",
      "\n",
      "Column: City\n",
      "['Delhi' 'Mumbai' 'Pune']\n"
     ]
    }
   ],
   "source": [
    "# Show all columns with object (non-numeric) datatype\n",
    "categorical_cols = df.select_dtypes(include='object').columns.tolist()\n",
    "print(\"Categorical columns:\", categorical_cols)\n",
    "\n",
    "# Show unique values for each to inspect what needs encoding\n",
    "for col in categorical_cols:\n",
    "    print(f\"\\nColumn: {col}\")\n",
    "    print(df[col].unique()[:10])  # Show up to 10 unique values for preview\n"
   ]
  },
  {
   "cell_type": "code",
   "execution_count": 16,
   "id": "10a288f4",
   "metadata": {},
   "outputs": [
    {
     "name": "stdout",
     "output_type": "stream",
     "text": [
      "<class 'pandas.core.frame.DataFrame'>\n",
      "RangeIndex: 13910 entries, 0 to 13909\n",
      "Data columns (total 16 columns):\n",
      " #   Column            Non-Null Count  Dtype  \n",
      "---  ------            --------------  -----  \n",
      " 0   house_type        13910 non-null  object \n",
      " 1   house_size        13910 non-null  int64  \n",
      " 2   location          13910 non-null  object \n",
      " 3   city              13910 non-null  object \n",
      " 4   latitude          13910 non-null  float64\n",
      " 5   longitude         13910 non-null  float64\n",
      " 6   price             13910 non-null  int64  \n",
      " 7   currency          13910 non-null  object \n",
      " 8   numBathrooms      13910 non-null  float64\n",
      " 9   numBalconies      13910 non-null  float64\n",
      " 10  priceSqFt         13910 non-null  float64\n",
      " 11  verificationDate  13910 non-null  object \n",
      " 12  description       13910 non-null  object \n",
      " 13  SecurityDeposit   13910 non-null  object \n",
      " 14  Status            13910 non-null  object \n",
      " 15  City              13910 non-null  object \n",
      "dtypes: float64(5), int64(2), object(9)\n",
      "memory usage: 1.7+ MB\n",
      "\n",
      "\n",
      "Sample rows:\n"
     ]
    },
    {
     "data": {
      "text/html": [
       "<div>\n",
       "<style scoped>\n",
       "    .dataframe tbody tr th:only-of-type {\n",
       "        vertical-align: middle;\n",
       "    }\n",
       "\n",
       "    .dataframe tbody tr th {\n",
       "        vertical-align: top;\n",
       "    }\n",
       "\n",
       "    .dataframe thead th {\n",
       "        text-align: right;\n",
       "    }\n",
       "</style>\n",
       "<table border=\"1\" class=\"dataframe\">\n",
       "  <thead>\n",
       "    <tr style=\"text-align: right;\">\n",
       "      <th></th>\n",
       "      <th>house_type</th>\n",
       "      <th>house_size</th>\n",
       "      <th>location</th>\n",
       "      <th>city</th>\n",
       "      <th>latitude</th>\n",
       "      <th>longitude</th>\n",
       "      <th>price</th>\n",
       "      <th>currency</th>\n",
       "      <th>numBathrooms</th>\n",
       "      <th>numBalconies</th>\n",
       "      <th>priceSqFt</th>\n",
       "      <th>verificationDate</th>\n",
       "      <th>description</th>\n",
       "      <th>SecurityDeposit</th>\n",
       "      <th>Status</th>\n",
       "      <th>City</th>\n",
       "    </tr>\n",
       "  </thead>\n",
       "  <tbody>\n",
       "    <tr>\n",
       "      <th>13787</th>\n",
       "      <td>2 BHK Apartment</td>\n",
       "      <td>1000</td>\n",
       "      <td>Hinjewadi</td>\n",
       "      <td>Pune</td>\n",
       "      <td>18.583963</td>\n",
       "      <td>73.697685</td>\n",
       "      <td>17000</td>\n",
       "      <td>INR</td>\n",
       "      <td>2.0</td>\n",
       "      <td>0.0</td>\n",
       "      <td>17.000000</td>\n",
       "      <td>Posted 3 years ago</td>\n",
       "      <td>A 2 bhk property is available for rental in Pe...</td>\n",
       "      <td>No Deposit</td>\n",
       "      <td>Unfurnished</td>\n",
       "      <td>Pune</td>\n",
       "    </tr>\n",
       "    <tr>\n",
       "      <th>2938</th>\n",
       "      <td>2 BHK Apartment</td>\n",
       "      <td>800</td>\n",
       "      <td>Janakpuri</td>\n",
       "      <td>Delhi</td>\n",
       "      <td>28.624125</td>\n",
       "      <td>77.081459</td>\n",
       "      <td>18000</td>\n",
       "      <td>INR</td>\n",
       "      <td>1.0</td>\n",
       "      <td>1.0</td>\n",
       "      <td>22.500000</td>\n",
       "      <td>Posted 16 days ago</td>\n",
       "      <td>An independent lig flat very beautifully renov...</td>\n",
       "      <td>36,000</td>\n",
       "      <td>Semi-Furnished</td>\n",
       "      <td>Delhi</td>\n",
       "    </tr>\n",
       "    <tr>\n",
       "      <th>7535</th>\n",
       "      <td>1 BHK Apartment</td>\n",
       "      <td>640</td>\n",
       "      <td>Koper Khairane</td>\n",
       "      <td>Mumbai</td>\n",
       "      <td>19.102783</td>\n",
       "      <td>73.010506</td>\n",
       "      <td>27000</td>\n",
       "      <td>INR</td>\n",
       "      <td>1.0</td>\n",
       "      <td>0.0</td>\n",
       "      <td>42.187500</td>\n",
       "      <td>Posted 16 days ago</td>\n",
       "      <td>A spacious 1 bhk multistorey apartment is avai...</td>\n",
       "      <td>No Deposit</td>\n",
       "      <td>Furnished</td>\n",
       "      <td>Mumbai</td>\n",
       "    </tr>\n",
       "    <tr>\n",
       "      <th>1785</th>\n",
       "      <td>2 BHK Independent Floor</td>\n",
       "      <td>540</td>\n",
       "      <td>Dabri</td>\n",
       "      <td>Delhi</td>\n",
       "      <td>28.607269</td>\n",
       "      <td>77.089447</td>\n",
       "      <td>12000</td>\n",
       "      <td>INR</td>\n",
       "      <td>1.0</td>\n",
       "      <td>0.0</td>\n",
       "      <td>22.222222</td>\n",
       "      <td>Posted 15 days ago</td>\n",
       "      <td>Your search for a spacious home at affordable ...</td>\n",
       "      <td>No Deposit</td>\n",
       "      <td>Semi-Furnished</td>\n",
       "      <td>Delhi</td>\n",
       "    </tr>\n",
       "    <tr>\n",
       "      <th>8725</th>\n",
       "      <td>2 BHK Apartment</td>\n",
       "      <td>800</td>\n",
       "      <td>Virar</td>\n",
       "      <td>Mumbai</td>\n",
       "      <td>19.462004</td>\n",
       "      <td>72.801643</td>\n",
       "      <td>10000</td>\n",
       "      <td>INR</td>\n",
       "      <td>2.0</td>\n",
       "      <td>0.0</td>\n",
       "      <td>12.500000</td>\n",
       "      <td>Posted 4 years ago</td>\n",
       "      <td>A spacious 2 bhk multistorey apartment is avai...</td>\n",
       "      <td>No Deposit</td>\n",
       "      <td>Semi-Furnished</td>\n",
       "      <td>Mumbai</td>\n",
       "    </tr>\n",
       "  </tbody>\n",
       "</table>\n",
       "</div>"
      ],
      "text/plain": [
       "                     house_type  house_size        location    city  \\\n",
       "13787          2 BHK Apartment         1000       Hinjewadi    Pune   \n",
       "2938           2 BHK Apartment          800       Janakpuri   Delhi   \n",
       "7535           1 BHK Apartment          640  Koper Khairane  Mumbai   \n",
       "1785   2 BHK Independent Floor          540           Dabri   Delhi   \n",
       "8725           2 BHK Apartment          800           Virar  Mumbai   \n",
       "\n",
       "        latitude  longitude  price currency  numBathrooms  numBalconies  \\\n",
       "13787  18.583963  73.697685  17000      INR           2.0           0.0   \n",
       "2938   28.624125  77.081459  18000      INR           1.0           1.0   \n",
       "7535   19.102783  73.010506  27000      INR           1.0           0.0   \n",
       "1785   28.607269  77.089447  12000      INR           1.0           0.0   \n",
       "8725   19.462004  72.801643  10000      INR           2.0           0.0   \n",
       "\n",
       "       priceSqFt    verificationDate  \\\n",
       "13787  17.000000  Posted 3 years ago   \n",
       "2938   22.500000  Posted 16 days ago   \n",
       "7535   42.187500  Posted 16 days ago   \n",
       "1785   22.222222  Posted 15 days ago   \n",
       "8725   12.500000  Posted 4 years ago   \n",
       "\n",
       "                                             description SecurityDeposit  \\\n",
       "13787  A 2 bhk property is available for rental in Pe...      No Deposit   \n",
       "2938   An independent lig flat very beautifully renov...          36,000   \n",
       "7535   A spacious 1 bhk multistorey apartment is avai...      No Deposit   \n",
       "1785   Your search for a spacious home at affordable ...      No Deposit   \n",
       "8725   A spacious 2 bhk multistorey apartment is avai...      No Deposit   \n",
       "\n",
       "               Status    City  \n",
       "13787     Unfurnished    Pune  \n",
       "2938   Semi-Furnished   Delhi  \n",
       "7535        Furnished  Mumbai  \n",
       "1785   Semi-Furnished   Delhi  \n",
       "8725   Semi-Furnished  Mumbai  "
      ]
     },
     "metadata": {},
     "output_type": "display_data"
    }
   ],
   "source": [
    "df.info()\n",
    "print(\"\\n\\nSample rows:\")\n",
    "display(df.sample(5))\n"
   ]
  },
  {
   "cell_type": "code",
   "execution_count": 17,
   "id": "42abb4ed",
   "metadata": {},
   "outputs": [
    {
     "name": "stdout",
     "output_type": "stream",
     "text": [
      "'city' and 'City' contain mismatched values. Manual inspection needed.\n"
     ]
    }
   ],
   "source": [
    "# Standardize and compare the two columns\n",
    "df['city'] = df['city'].str.lower().str.strip()\n",
    "df['City'] = df['City'].str.lower().str.strip()\n",
    "\n",
    "# Drop 'City' if both are the same\n",
    "if (df['city'] == df['City']).all():\n",
    "    df.drop('City', axis=1, inplace=True)\n",
    "    print(\"✅ Dropped 'City' column as it duplicates 'city'\")\n",
    "else:\n",
    "    print(\"'city' and 'City' contain mismatched values. Manual inspection needed.\")\n"
   ]
  },
  {
   "cell_type": "code",
   "execution_count": 18,
   "id": "1245fdcb",
   "metadata": {},
   "outputs": [
    {
     "data": {
      "text/html": [
       "<div>\n",
       "<style scoped>\n",
       "    .dataframe tbody tr th:only-of-type {\n",
       "        vertical-align: middle;\n",
       "    }\n",
       "\n",
       "    .dataframe tbody tr th {\n",
       "        vertical-align: top;\n",
       "    }\n",
       "\n",
       "    .dataframe thead th {\n",
       "        text-align: right;\n",
       "    }\n",
       "</style>\n",
       "<table border=\"1\" class=\"dataframe\">\n",
       "  <thead>\n",
       "    <tr style=\"text-align: right;\">\n",
       "      <th></th>\n",
       "      <th>city</th>\n",
       "      <th>City</th>\n",
       "    </tr>\n",
       "  </thead>\n",
       "  <tbody>\n",
       "    <tr>\n",
       "      <th>7724</th>\n",
       "      <td>hisar</td>\n",
       "      <td>mumbai</td>\n",
       "    </tr>\n",
       "    <tr>\n",
       "      <th>7842</th>\n",
       "      <td>hisar</td>\n",
       "      <td>mumbai</td>\n",
       "    </tr>\n",
       "    <tr>\n",
       "      <th>8548</th>\n",
       "      <td>hisar</td>\n",
       "      <td>mumbai</td>\n",
       "    </tr>\n",
       "    <tr>\n",
       "      <th>8559</th>\n",
       "      <td>hisar</td>\n",
       "      <td>mumbai</td>\n",
       "    </tr>\n",
       "    <tr>\n",
       "      <th>8849</th>\n",
       "      <td>hisar</td>\n",
       "      <td>mumbai</td>\n",
       "    </tr>\n",
       "    <tr>\n",
       "      <th>8945</th>\n",
       "      <td>hisar</td>\n",
       "      <td>mumbai</td>\n",
       "    </tr>\n",
       "    <tr>\n",
       "      <th>9409</th>\n",
       "      <td>hisar</td>\n",
       "      <td>mumbai</td>\n",
       "    </tr>\n",
       "    <tr>\n",
       "      <th>9420</th>\n",
       "      <td>hisar</td>\n",
       "      <td>mumbai</td>\n",
       "    </tr>\n",
       "  </tbody>\n",
       "</table>\n",
       "</div>"
      ],
      "text/plain": [
       "       city    City\n",
       "7724  hisar  mumbai\n",
       "7842  hisar  mumbai\n",
       "8548  hisar  mumbai\n",
       "8559  hisar  mumbai\n",
       "8849  hisar  mumbai\n",
       "8945  hisar  mumbai\n",
       "9409  hisar  mumbai\n",
       "9420  hisar  mumbai"
      ]
     },
     "metadata": {},
     "output_type": "display_data"
    },
    {
     "name": "stdout",
     "output_type": "stream",
     "text": [
      "⚠️ Total mismatches found: 8\n"
     ]
    }
   ],
   "source": [
    "mismatch = df[df['city'].str.lower().str.strip() != df['City'].str.lower().str.strip()]\n",
    "display(mismatch[['city', 'City']])\n",
    "print(f\"⚠️ Total mismatches found: {len(mismatch)}\")\n"
   ]
  },
  {
   "cell_type": "code",
   "execution_count": 19,
   "id": "ac8682ba",
   "metadata": {},
   "outputs": [],
   "source": [
    "# List of index numbers to update\n",
    "indices_to_update = [7724, 7842, 8548, 8559, 8849, 8945, 9409, 9420]\n",
    "\n",
    "# Update 'City' column to 'Delhi' for these indices\n",
    "df.loc[indices_to_update, 'City'] = 'Delhi'\n",
    "\n",
    "# Drop the 'city' column\n",
    "df.drop(columns=['city'], inplace=True)\n"
   ]
  },
  {
   "cell_type": "code",
   "execution_count": 20,
   "id": "dc0b024f",
   "metadata": {},
   "outputs": [
    {
     "name": "stdout",
     "output_type": "stream",
     "text": [
      "house_type: 34 unique values\n",
      "house_type\n",
      "2 BHK Apartment             4385\n",
      "1 BHK Apartment             2622\n",
      "3 BHK Apartment             1837\n",
      "3 BHK Independent Floor     1571\n",
      "4 BHK Independent Floor      786\n",
      "Name: count, dtype: int64 \n",
      "\n",
      "location: 702 unique values\n",
      "location\n",
      "Wagholi         743\n",
      "Andheri West    362\n",
      "Thane West      287\n",
      "Andheri East    284\n",
      "Kharghar        255\n",
      "Name: count, dtype: int64 \n",
      "\n",
      "currency: 1 unique values\n",
      "currency\n",
      "INR    13910\n",
      "Name: count, dtype: int64 \n",
      "\n",
      "Status: 3 unique values\n",
      "Status\n",
      "Unfurnished       5613\n",
      "Semi-Furnished    5548\n",
      "Furnished         2749\n",
      "Name: count, dtype: int64 \n",
      "\n",
      "City: 4 unique values\n",
      "City\n",
      "delhi     5000\n",
      "mumbai    4992\n",
      "pune      3910\n",
      "Delhi        8\n",
      "Name: count, dtype: int64 \n",
      "\n"
     ]
    }
   ],
   "source": [
    "for col in ['house_type', 'location', 'currency', 'Status', 'City']:\n",
    "    print(f\"{col}: {df[col].nunique()} unique values\")\n",
    "    print(df[col].value_counts().head(), '\\n')\n"
   ]
  },
  {
   "cell_type": "code",
   "execution_count": 21,
   "id": "3d11dfc5",
   "metadata": {},
   "outputs": [
    {
     "data": {
      "text/plain": [
       "array(['No Deposit', ' 13,000', ' 70,000', ' 56,000', ' 46,000',\n",
       "       ' 50,000', ' 66,000', ' 36,000', ' 65,41,919', ' 60,10,155'],\n",
       "      dtype=object)"
      ]
     },
     "execution_count": 21,
     "metadata": {},
     "output_type": "execute_result"
    }
   ],
   "source": [
    "df['SecurityDeposit'].unique()[:10]\n"
   ]
  },
  {
   "cell_type": "code",
   "execution_count": 22,
   "id": "19d01439",
   "metadata": {},
   "outputs": [
    {
     "name": "stdout",
     "output_type": "stream",
     "text": [
      "Remaining columns: ['house_type', 'house_size', 'location', 'latitude', 'longitude', 'price', 'numBathrooms', 'numBalconies', 'priceSqFt', 'description', 'SecurityDeposit', 'Status', 'City']\n"
     ]
    }
   ],
   "source": [
    "# Drop unnecessary columns\n",
    "df.drop(['currency', 'verificationDate'], axis=1, inplace=True)\n",
    "\n",
    "# Confirm the changes\n",
    "print(\"Remaining columns:\", df.columns.tolist())\n"
   ]
  },
  {
   "cell_type": "code",
   "execution_count": 23,
   "id": "3c57e217",
   "metadata": {},
   "outputs": [
    {
     "name": "stdout",
     "output_type": "stream",
     "text": [
      "[      0   13000   70000   56000   46000   50000   66000   36000 6541919\n",
      " 6010155]\n",
      "int64\n"
     ]
    }
   ],
   "source": [
    "def clean_deposit(value):\n",
    "    if isinstance(value, str):\n",
    "        value = value.strip()\n",
    "        if value.lower() == 'no deposit':\n",
    "            return 0\n",
    "        return int(value.replace(',', ''))\n",
    "    return value\n",
    "\n",
    "# Apply cleaning\n",
    "df['SecurityDeposit'] = df['SecurityDeposit'].apply(clean_deposit)\n",
    "\n",
    "# Check results\n",
    "print(df['SecurityDeposit'].unique()[:10])\n",
    "print(df['SecurityDeposit'].dtype)\n"
   ]
  },
  {
   "cell_type": "code",
   "execution_count": 24,
   "id": "4547987a",
   "metadata": {},
   "outputs": [
    {
     "name": "stdout",
     "output_type": "stream",
     "text": [
      "<class 'pandas.core.frame.DataFrame'>\n",
      "RangeIndex: 13910 entries, 0 to 13909\n",
      "Data columns (total 13 columns):\n",
      " #   Column           Non-Null Count  Dtype  \n",
      "---  ------           --------------  -----  \n",
      " 0   house_type       13910 non-null  object \n",
      " 1   house_size       13910 non-null  int64  \n",
      " 2   location         13910 non-null  object \n",
      " 3   latitude         13910 non-null  float64\n",
      " 4   longitude        13910 non-null  float64\n",
      " 5   price            13910 non-null  int64  \n",
      " 6   numBathrooms     13910 non-null  float64\n",
      " 7   numBalconies     13910 non-null  float64\n",
      " 8   priceSqFt        13910 non-null  float64\n",
      " 9   description      13910 non-null  object \n",
      " 10  SecurityDeposit  13910 non-null  int64  \n",
      " 11  Status           13910 non-null  object \n",
      " 12  City             13910 non-null  object \n",
      "dtypes: float64(5), int64(3), object(5)\n",
      "memory usage: 1.4+ MB\n"
     ]
    }
   ],
   "source": [
    "df.info()"
   ]
  },
  {
   "cell_type": "code",
   "execution_count": 25,
   "id": "7a9d874c",
   "metadata": {},
   "outputs": [
    {
     "name": "stdout",
     "output_type": "stream",
     "text": [
      "[ 22000  20000   8500  48000  11000  35000  39000  90000  10000  15000\n",
      "  24000  59000  45000  32500 220000  43000  30000  68000  55000  40000]\n",
      "int64\n"
     ]
    }
   ],
   "source": [
    "print(df['price'].unique()[:20])\n",
    "print(df['price'].dtype)\n"
   ]
  },
  {
   "cell_type": "markdown",
   "id": "c3409b41",
   "metadata": {},
   "source": [
    "## grouping the common places into areas and making it suitable for OHE"
   ]
  },
  {
   "cell_type": "code",
   "execution_count": 26,
   "id": "25e7485d",
   "metadata": {},
   "outputs": [
    {
     "name": "stdout",
     "output_type": "stream",
     "text": [
      "location\n",
      "Wagholi           743\n",
      "Andheri West      362\n",
      "Thane West        287\n",
      "Andheri East      284\n",
      "Kharghar          255\n",
      "Dhanori           198\n",
      "Ghansoli          196\n",
      "Wakad             195\n",
      "Defence Colony    189\n",
      "Powai             175\n",
      "Name: count, dtype: int64\n",
      "location\n",
      "Agalambe                  1\n",
      "Ganj Peth                 1\n",
      "Talegaon                  1\n",
      "Pratik Nagar Mohanwadi    1\n",
      "Shewalewadi               1\n",
      " Kharadi                  1\n",
      "Kasarwadi                 1\n",
      "Taljai Temple Road        1\n",
      "Dighi Gaonthan            1\n",
      "New DP Road               1\n",
      "Name: count, dtype: int64\n",
      "702\n"
     ]
    }
   ],
   "source": [
    "location_counts = df['location'].value_counts()\n",
    "print(location_counts.head(10))\n",
    "print(location_counts.tail(10))\n",
    "print(len(location_counts))"
   ]
  },
  {
   "cell_type": "code",
   "execution_count": 27,
   "id": "d5325f5b",
   "metadata": {},
   "outputs": [],
   "source": [
    "top_locations = df['location'].value_counts().nlargest(50).index\n",
    "\n",
    "# Replace all other locations with \"Other\"\n",
    "df['location'] = df['location'].apply(lambda x: x if x in top_locations else 'Other')\n"
   ]
  },
  {
   "cell_type": "code",
   "execution_count": 28,
   "id": "bb886b80",
   "metadata": {},
   "outputs": [
    {
     "name": "stdout",
     "output_type": "stream",
     "text": [
      "house_type\n",
      "2 BHK Apartment              4385\n",
      "1 BHK Apartment              2622\n",
      "3 BHK Apartment              1837\n",
      "3 BHK Independent Floor      1571\n",
      "4 BHK Independent Floor       786\n",
      "2 BHK Independent Floor       542\n",
      "1 RK Studio Apartment         434\n",
      "4 BHK Apartment               297\n",
      "4 BHK Villa                   273\n",
      "1 BHK Independent Floor       255\n",
      "5 BHK Villa                   185\n",
      "5 BHK Independent Floor       180\n",
      "5 BHK Independent House       153\n",
      "4 BHK Independent House       128\n",
      "1 BHK Independent House        69\n",
      "3 BHK Villa                    47\n",
      "3 BHK Independent House        29\n",
      "2 BHK Independent House        28\n",
      "5 BHK Apartment                27\n",
      "2 BHK Villa                    23\n",
      "6 BHK Apartment                 6\n",
      "6 BHK Independent Floor         6\n",
      "6 BHK Villa                     5\n",
      "1 BHK Villa                     5\n",
      "6 BHK penthouse                 3\n",
      "9 BHK Independent House         3\n",
      "8 BHK Independent Floor         2\n",
      "7 BHK Independent Floor         2\n",
      "10 BHK Independent House        2\n",
      "8 BHK Independent House         1\n",
      "8 BHK Villa                     1\n",
      "7 BHK Independent House         1\n",
      "12 BHK Independent House        1\n",
      "6 BHK Independent House         1\n",
      "Name: count, dtype: int64\n",
      "0\n"
     ]
    }
   ],
   "source": [
    "print(df['house_type'].value_counts())\n",
    "print(df['house_type'].isnull().sum())\n"
   ]
  },
  {
   "cell_type": "code",
   "execution_count": 29,
   "id": "44fca4f8",
   "metadata": {},
   "outputs": [],
   "source": [
    "# Extract number of bedrooms (e.g., 1, 2, 3...) safely\n",
    "df['bhk'] = df['house_type'].str.extract(r'(\\d+)\\s*BHK')[0].astype('Int64')\n",
    "\n",
    "# Extract property type (e.g., Apartment, Villa, etc.)\n",
    "df['property_type'] = df['house_type'].str.extract(r'BHK\\s+(.*)')[0]\n",
    "\n",
    "# Drop the original column if not needed\n",
    "df.drop(columns=['house_type'], inplace=True)\n"
   ]
  },
  {
   "cell_type": "code",
   "execution_count": 30,
   "id": "c8d79902",
   "metadata": {},
   "outputs": [
    {
     "name": "stdout",
     "output_type": "stream",
     "text": [
      "bhk\n",
      "1       2951\n",
      "2       4978\n",
      "3       3484\n",
      "4       1484\n",
      "5        545\n",
      "6         21\n",
      "7          3\n",
      "8          4\n",
      "9          3\n",
      "10         2\n",
      "12         1\n",
      "<NA>     434\n",
      "Name: count, dtype: Int64\n",
      "property_type\n",
      "Apartment             9174\n",
      "Independent Floor     3344\n",
      "Villa                  539\n",
      "NaN                    434\n",
      "Independent House      416\n",
      "penthouse                3\n",
      "Name: count, dtype: int64\n"
     ]
    }
   ],
   "source": [
    "print(df['bhk'].value_counts(dropna=False).sort_index())\n",
    "print(df['property_type'].value_counts(dropna=False))\n"
   ]
  },
  {
   "cell_type": "code",
   "execution_count": 31,
   "id": "4c8e1cc8",
   "metadata": {},
   "outputs": [
    {
     "data": {
      "text/plain": [
       "numBathrooms\n",
       "1.0     2755\n",
       "2.0     6205\n",
       "3.0     2846\n",
       "4.0     1946\n",
       "5.0      117\n",
       "6.0       26\n",
       "7.0        6\n",
       "8.0        5\n",
       "9.0        3\n",
       "10.0       1\n",
       "Name: count, dtype: int64"
      ]
     },
     "execution_count": 31,
     "metadata": {},
     "output_type": "execute_result"
    }
   ],
   "source": [
    "df['numBathrooms'].value_counts(dropna=False).sort_index()\n"
   ]
  },
  {
   "cell_type": "code",
   "execution_count": 32,
   "id": "1e85ba72",
   "metadata": {},
   "outputs": [],
   "source": [
    "df = df[df['numBathrooms'] < 9].copy()\n"
   ]
  },
  {
   "cell_type": "code",
   "execution_count": 33,
   "id": "2cee82af",
   "metadata": {},
   "outputs": [
    {
     "data": {
      "text/plain": [
       "numBathrooms\n",
       "1.0    2755\n",
       "2.0    6205\n",
       "3.0    2846\n",
       "4.0    1946\n",
       "5.0     117\n",
       "6.0      26\n",
       "7.0       6\n",
       "8.0       5\n",
       "Name: count, dtype: int64"
      ]
     },
     "execution_count": 33,
     "metadata": {},
     "output_type": "execute_result"
    }
   ],
   "source": [
    "df['numBathrooms'].value_counts(dropna=False).sort_index()\n"
   ]
  },
  {
   "cell_type": "code",
   "execution_count": 34,
   "id": "a048af30",
   "metadata": {},
   "outputs": [
    {
     "data": {
      "text/plain": [
       "numBalconies\n",
       "0.0    8617\n",
       "1.0    1561\n",
       "2.0    3204\n",
       "3.0     369\n",
       "4.0     133\n",
       "5.0      16\n",
       "6.0       5\n",
       "8.0       1\n",
       "Name: count, dtype: int64"
      ]
     },
     "execution_count": 34,
     "metadata": {},
     "output_type": "execute_result"
    }
   ],
   "source": [
    "df['numBalconies'].value_counts(dropna=False).sort_index()\n"
   ]
  },
  {
   "cell_type": "code",
   "execution_count": 35,
   "id": "d0f3d904",
   "metadata": {},
   "outputs": [],
   "source": [
    "df = df[df['numBalconies'] <= 6]\n"
   ]
  },
  {
   "cell_type": "code",
   "execution_count": 36,
   "id": "334c02ed",
   "metadata": {},
   "outputs": [
    {
     "data": {
      "text/plain": [
       "numBalconies\n",
       "0.0    8617\n",
       "1.0    1561\n",
       "2.0    3204\n",
       "3.0     369\n",
       "4.0     133\n",
       "5.0      16\n",
       "6.0       5\n",
       "Name: count, dtype: int64"
      ]
     },
     "execution_count": 36,
     "metadata": {},
     "output_type": "execute_result"
    }
   ],
   "source": [
    "df['numBalconies'].value_counts().sort_index()\n"
   ]
  },
  {
   "cell_type": "code",
   "execution_count": 37,
   "id": "d6945058",
   "metadata": {},
   "outputs": [
    {
     "data": {
      "text/plain": [
       "count    13905.000000\n",
       "mean        47.414322\n",
       "std         39.476161\n",
       "min          4.000000\n",
       "25%         20.576132\n",
       "50%         32.941176\n",
       "75%         62.500000\n",
       "max        382.024843\n",
       "Name: priceSqFt, dtype: float64"
      ]
     },
     "execution_count": 37,
     "metadata": {},
     "output_type": "execute_result"
    }
   ],
   "source": [
    "df['priceSqFt'].describe()\n"
   ]
  },
  {
   "cell_type": "markdown",
   "id": "7d08ea92",
   "metadata": {},
   "source": [
    "4sq home baba re "
   ]
  },
  {
   "cell_type": "code",
   "execution_count": 38,
   "id": "06c1004a",
   "metadata": {},
   "outputs": [
    {
     "data": {
      "text/plain": [
       "priceSqFt\n",
       "20.000000     248\n",
       "25.000000     158\n",
       "105.396359    149\n",
       "33.333333     141\n",
       "50.000000     121\n",
       "30.000000     107\n",
       "40.000000      95\n",
       "26.666667      94\n",
       "66.666667      91\n",
       "22.222222      87\n",
       "51.053596      85\n",
       "16.666667      84\n",
       "68.014247      84\n",
       "23.333333      83\n",
       "105.399860     67\n",
       "100.000000     62\n",
       "55.555556      58\n",
       "10.000000      57\n",
       "51.055292      57\n",
       "46.160405      56\n",
       "Name: count, dtype: int64"
      ]
     },
     "execution_count": 38,
     "metadata": {},
     "output_type": "execute_result"
    }
   ],
   "source": [
    "df['priceSqFt'].value_counts(dropna=False).head(20)\n"
   ]
  },
  {
   "cell_type": "code",
   "execution_count": 39,
   "id": "cfa45a51",
   "metadata": {},
   "outputs": [],
   "source": [
    "df.drop(columns=['description'], inplace=True)\n"
   ]
  },
  {
   "cell_type": "code",
   "execution_count": 40,
   "id": "ef6903c9",
   "metadata": {},
   "outputs": [
    {
     "data": {
      "text/plain": [
       "location\n",
       "Other                 6470\n",
       "Wagholi                743\n",
       "Andheri West           362\n",
       "Thane West             287\n",
       "Andheri East           284\n",
       "Kharghar               255\n",
       "Dhanori                198\n",
       "Ghansoli               196\n",
       "Wakad                  195\n",
       "Defence Colony         189\n",
       "Powai                  175\n",
       "Chembur                158\n",
       "Hinjewadi              157\n",
       "Borivali East          153\n",
       "Greater kailash 1      153\n",
       "Santacruz East         151\n",
       "Chattarpur             145\n",
       "Kharadi                145\n",
       "Vasant Vihar           145\n",
       "Lohegaon               142\n",
       "Jor bagh               125\n",
       "Safdarjung Enclave     118\n",
       "Baner                  117\n",
       "Hadapsar               116\n",
       "Kalyan West            115\n",
       "Goregaon East          114\n",
       "Mira Road East         112\n",
       "Saket                  111\n",
       "Dombivali              110\n",
       "Goregaon West          108\n",
       "Mulund West            108\n",
       "Hauz Khas              107\n",
       "Greater Kailash        107\n",
       "Panchsheel Park        105\n",
       "Golf Links             105\n",
       "Kondhwa                103\n",
       "Bandra West            103\n",
       "Malad West             101\n",
       "Anand Niketan           99\n",
       "Aundh                   98\n",
       "Green Park              98\n",
       "Bhandup West            98\n",
       "Pimple Saudagar         95\n",
       "Paschim Vihar           94\n",
       "Kanjurmarg              92\n",
       "Dhayari                 92\n",
       "Greater Kailash II      92\n",
       "Undri                   91\n",
       "Gulmohar park           90\n",
       "Vasant Kunj             89\n",
       "Janakpuri               89\n",
       "Name: count, dtype: int64"
      ]
     },
     "execution_count": 40,
     "metadata": {},
     "output_type": "execute_result"
    }
   ],
   "source": [
    "df['location'].value_counts(dropna=False)\n"
   ]
  },
  {
   "cell_type": "code",
   "execution_count": 41,
   "id": "2f0622f8",
   "metadata": {},
   "outputs": [],
   "source": [
    "# Step 1: Group rare locations as 'Other'\n",
    "location_counts = df['location'].value_counts()\n",
    "rare_locations = location_counts[location_counts < 50].index\n",
    "df['location'] = df['location'].replace(rare_locations, 'Other')\n",
    "\n",
    "# Step 2: Label encode\n",
    "from sklearn.preprocessing import LabelEncoder\n",
    "le_location = LabelEncoder()\n",
    "df['location'] = le_location.fit_transform(df['location'])\n"
   ]
  },
  {
   "cell_type": "code",
   "execution_count": 42,
   "id": "2f3621c9",
   "metadata": {},
   "outputs": [
    {
     "data": {
      "text/plain": [
       "np.int64(0)"
      ]
     },
     "execution_count": 42,
     "metadata": {},
     "output_type": "execute_result"
    }
   ],
   "source": [
    "df['latitude'].describe()\n",
    "df['latitude'].isna().sum()\n"
   ]
  },
  {
   "cell_type": "code",
   "execution_count": 43,
   "id": "f6c6d574",
   "metadata": {},
   "outputs": [
    {
     "name": "stdout",
     "output_type": "stream",
     "text": [
      "Min: 17.46821976\n",
      "Max: 31.10658646\n"
     ]
    }
   ],
   "source": [
    "print(\"Min:\", df['latitude'].min())\n",
    "print(\"Max:\", df['latitude'].max())\n"
   ]
  },
  {
   "cell_type": "code",
   "execution_count": 44,
   "id": "81736928",
   "metadata": {},
   "outputs": [
    {
     "name": "stdout",
     "output_type": "stream",
     "text": [
      "0\n",
      "Min: 18.49789619\n",
      "Max: 91.79213715\n"
     ]
    }
   ],
   "source": [
    "print(df['longitude'].isnull().sum())\n",
    "print(\"Min:\", df['longitude'].min())\n",
    "print(\"Max:\", df['longitude'].max())\n"
   ]
  },
  {
   "cell_type": "code",
   "execution_count": 45,
   "id": "d56788ab",
   "metadata": {},
   "outputs": [
    {
     "name": "stdout",
     "output_type": "stream",
     "text": [
      "Potentially swapped rows: 0\n"
     ]
    },
    {
     "data": {
      "text/html": [
       "<div>\n",
       "<style scoped>\n",
       "    .dataframe tbody tr th:only-of-type {\n",
       "        vertical-align: middle;\n",
       "    }\n",
       "\n",
       "    .dataframe tbody tr th {\n",
       "        vertical-align: top;\n",
       "    }\n",
       "\n",
       "    .dataframe thead th {\n",
       "        text-align: right;\n",
       "    }\n",
       "</style>\n",
       "<table border=\"1\" class=\"dataframe\">\n",
       "  <thead>\n",
       "    <tr style=\"text-align: right;\">\n",
       "      <th></th>\n",
       "      <th>house_size</th>\n",
       "      <th>location</th>\n",
       "      <th>latitude</th>\n",
       "      <th>longitude</th>\n",
       "      <th>price</th>\n",
       "      <th>numBathrooms</th>\n",
       "      <th>numBalconies</th>\n",
       "      <th>priceSqFt</th>\n",
       "      <th>SecurityDeposit</th>\n",
       "      <th>Status</th>\n",
       "      <th>City</th>\n",
       "      <th>bhk</th>\n",
       "      <th>property_type</th>\n",
       "    </tr>\n",
       "  </thead>\n",
       "  <tbody>\n",
       "  </tbody>\n",
       "</table>\n",
       "</div>"
      ],
      "text/plain": [
       "Empty DataFrame\n",
       "Columns: [house_size, location, latitude, longitude, price, numBathrooms, numBalconies, priceSqFt, SecurityDeposit, Status, City, bhk, property_type]\n",
       "Index: []"
      ]
     },
     "execution_count": 45,
     "metadata": {},
     "output_type": "execute_result"
    }
   ],
   "source": [
    "swapped = df[\n",
    "    (df['latitude'].between(68, 97)) &\n",
    "    (df['longitude'].between(6, 37))\n",
    "]\n",
    "print(\"Potentially swapped rows:\", len(swapped))\n",
    "swapped.head()\n"
   ]
  },
  {
   "cell_type": "code",
   "execution_count": 46,
   "id": "3bdf058a",
   "metadata": {},
   "outputs": [],
   "source": [
    "df = df[df['longitude'].between(68, 97)]\n"
   ]
  },
  {
   "cell_type": "code",
   "execution_count": 47,
   "id": "eb9513e5",
   "metadata": {},
   "outputs": [
    {
     "name": "stdout",
     "output_type": "stream",
     "text": [
      "<class 'pandas.core.frame.DataFrame'>\n",
      "Index: 13900 entries, 0 to 13909\n",
      "Data columns (total 13 columns):\n",
      " #   Column           Non-Null Count  Dtype  \n",
      "---  ------           --------------  -----  \n",
      " 0   house_size       13900 non-null  int64  \n",
      " 1   location         13900 non-null  int64  \n",
      " 2   latitude         13900 non-null  float64\n",
      " 3   longitude        13900 non-null  float64\n",
      " 4   price            13900 non-null  int64  \n",
      " 5   numBathrooms     13900 non-null  float64\n",
      " 6   numBalconies     13900 non-null  float64\n",
      " 7   priceSqFt        13900 non-null  float64\n",
      " 8   SecurityDeposit  13900 non-null  int64  \n",
      " 9   Status           13900 non-null  object \n",
      " 10  City             13900 non-null  object \n",
      " 11  bhk              13466 non-null  Int64  \n",
      " 12  property_type    13466 non-null  object \n",
      "dtypes: Int64(1), float64(5), int64(4), object(3)\n",
      "memory usage: 1.5+ MB\n"
     ]
    }
   ],
   "source": [
    "df.info()\n"
   ]
  },
  {
   "cell_type": "code",
   "execution_count": 48,
   "id": "755555f1",
   "metadata": {},
   "outputs": [
    {
     "data": {
      "text/plain": [
       "bhk              434\n",
       "property_type    434\n",
       "dtype: int64"
      ]
     },
     "execution_count": 48,
     "metadata": {},
     "output_type": "execute_result"
    }
   ],
   "source": [
    "df[['bhk', 'property_type']].isnull().sum()\n"
   ]
  },
  {
   "cell_type": "code",
   "execution_count": 49,
   "id": "6abb03cf",
   "metadata": {},
   "outputs": [
    {
     "data": {
      "text/html": [
       "<div>\n",
       "<style scoped>\n",
       "    .dataframe tbody tr th:only-of-type {\n",
       "        vertical-align: middle;\n",
       "    }\n",
       "\n",
       "    .dataframe tbody tr th {\n",
       "        vertical-align: top;\n",
       "    }\n",
       "\n",
       "    .dataframe thead th {\n",
       "        text-align: right;\n",
       "    }\n",
       "</style>\n",
       "<table border=\"1\" class=\"dataframe\">\n",
       "  <thead>\n",
       "    <tr style=\"text-align: right;\">\n",
       "      <th></th>\n",
       "      <th>house_size</th>\n",
       "      <th>location</th>\n",
       "      <th>latitude</th>\n",
       "      <th>longitude</th>\n",
       "      <th>price</th>\n",
       "      <th>numBathrooms</th>\n",
       "      <th>numBalconies</th>\n",
       "      <th>priceSqFt</th>\n",
       "      <th>SecurityDeposit</th>\n",
       "      <th>Status</th>\n",
       "      <th>City</th>\n",
       "      <th>bhk</th>\n",
       "      <th>property_type</th>\n",
       "    </tr>\n",
       "  </thead>\n",
       "  <tbody>\n",
       "    <tr>\n",
       "      <th>0</th>\n",
       "      <td>400</td>\n",
       "      <td>37</td>\n",
       "      <td>28.545561</td>\n",
       "      <td>77.254349</td>\n",
       "      <td>22000</td>\n",
       "      <td>1.0</td>\n",
       "      <td>0.0</td>\n",
       "      <td>55.000000</td>\n",
       "      <td>0</td>\n",
       "      <td>Furnished</td>\n",
       "      <td>delhi</td>\n",
       "      <td>&lt;NA&gt;</td>\n",
       "      <td>NaN</td>\n",
       "    </tr>\n",
       "    <tr>\n",
       "      <th>1</th>\n",
       "      <td>400</td>\n",
       "      <td>37</td>\n",
       "      <td>28.643259</td>\n",
       "      <td>77.132828</td>\n",
       "      <td>20000</td>\n",
       "      <td>1.0</td>\n",
       "      <td>0.0</td>\n",
       "      <td>50.000000</td>\n",
       "      <td>0</td>\n",
       "      <td>Furnished</td>\n",
       "      <td>delhi</td>\n",
       "      <td>&lt;NA&gt;</td>\n",
       "      <td>NaN</td>\n",
       "    </tr>\n",
       "    <tr>\n",
       "      <th>29</th>\n",
       "      <td>300</td>\n",
       "      <td>37</td>\n",
       "      <td>28.653690</td>\n",
       "      <td>77.169159</td>\n",
       "      <td>15500</td>\n",
       "      <td>1.0</td>\n",
       "      <td>0.0</td>\n",
       "      <td>51.666667</td>\n",
       "      <td>0</td>\n",
       "      <td>Furnished</td>\n",
       "      <td>delhi</td>\n",
       "      <td>&lt;NA&gt;</td>\n",
       "      <td>NaN</td>\n",
       "    </tr>\n",
       "    <tr>\n",
       "      <th>51</th>\n",
       "      <td>400</td>\n",
       "      <td>21</td>\n",
       "      <td>28.558958</td>\n",
       "      <td>77.204079</td>\n",
       "      <td>20000</td>\n",
       "      <td>1.0</td>\n",
       "      <td>0.0</td>\n",
       "      <td>50.000000</td>\n",
       "      <td>0</td>\n",
       "      <td>Semi-Furnished</td>\n",
       "      <td>delhi</td>\n",
       "      <td>&lt;NA&gt;</td>\n",
       "      <td>NaN</td>\n",
       "    </tr>\n",
       "    <tr>\n",
       "      <th>67</th>\n",
       "      <td>400</td>\n",
       "      <td>37</td>\n",
       "      <td>28.560387</td>\n",
       "      <td>77.212837</td>\n",
       "      <td>14000</td>\n",
       "      <td>1.0</td>\n",
       "      <td>0.0</td>\n",
       "      <td>35.000000</td>\n",
       "      <td>0</td>\n",
       "      <td>Furnished</td>\n",
       "      <td>delhi</td>\n",
       "      <td>&lt;NA&gt;</td>\n",
       "      <td>NaN</td>\n",
       "    </tr>\n",
       "    <tr>\n",
       "      <th>...</th>\n",
       "      <td>...</td>\n",
       "      <td>...</td>\n",
       "      <td>...</td>\n",
       "      <td>...</td>\n",
       "      <td>...</td>\n",
       "      <td>...</td>\n",
       "      <td>...</td>\n",
       "      <td>...</td>\n",
       "      <td>...</td>\n",
       "      <td>...</td>\n",
       "      <td>...</td>\n",
       "      <td>...</td>\n",
       "      <td>...</td>\n",
       "    </tr>\n",
       "    <tr>\n",
       "      <th>13856</th>\n",
       "      <td>400</td>\n",
       "      <td>37</td>\n",
       "      <td>18.657989</td>\n",
       "      <td>73.774261</td>\n",
       "      <td>8500</td>\n",
       "      <td>1.0</td>\n",
       "      <td>1.0</td>\n",
       "      <td>21.250000</td>\n",
       "      <td>20000</td>\n",
       "      <td>Semi-Furnished</td>\n",
       "      <td>pune</td>\n",
       "      <td>&lt;NA&gt;</td>\n",
       "      <td>NaN</td>\n",
       "    </tr>\n",
       "    <tr>\n",
       "      <th>13859</th>\n",
       "      <td>250</td>\n",
       "      <td>37</td>\n",
       "      <td>18.657471</td>\n",
       "      <td>73.768379</td>\n",
       "      <td>6000</td>\n",
       "      <td>1.0</td>\n",
       "      <td>1.0</td>\n",
       "      <td>24.000000</td>\n",
       "      <td>10000</td>\n",
       "      <td>Semi-Furnished</td>\n",
       "      <td>pune</td>\n",
       "      <td>&lt;NA&gt;</td>\n",
       "      <td>NaN</td>\n",
       "    </tr>\n",
       "    <tr>\n",
       "      <th>13860</th>\n",
       "      <td>350</td>\n",
       "      <td>37</td>\n",
       "      <td>18.657471</td>\n",
       "      <td>73.768379</td>\n",
       "      <td>8500</td>\n",
       "      <td>2.0</td>\n",
       "      <td>1.0</td>\n",
       "      <td>24.285714</td>\n",
       "      <td>15000</td>\n",
       "      <td>Semi-Furnished</td>\n",
       "      <td>pune</td>\n",
       "      <td>&lt;NA&gt;</td>\n",
       "      <td>NaN</td>\n",
       "    </tr>\n",
       "    <tr>\n",
       "      <th>13865</th>\n",
       "      <td>400</td>\n",
       "      <td>37</td>\n",
       "      <td>18.649200</td>\n",
       "      <td>73.765778</td>\n",
       "      <td>6000</td>\n",
       "      <td>1.0</td>\n",
       "      <td>1.0</td>\n",
       "      <td>15.000000</td>\n",
       "      <td>15000</td>\n",
       "      <td>Unfurnished</td>\n",
       "      <td>pune</td>\n",
       "      <td>&lt;NA&gt;</td>\n",
       "      <td>NaN</td>\n",
       "    </tr>\n",
       "    <tr>\n",
       "      <th>13866</th>\n",
       "      <td>400</td>\n",
       "      <td>37</td>\n",
       "      <td>18.657471</td>\n",
       "      <td>73.768379</td>\n",
       "      <td>7500</td>\n",
       "      <td>1.0</td>\n",
       "      <td>1.0</td>\n",
       "      <td>18.750000</td>\n",
       "      <td>20000</td>\n",
       "      <td>Unfurnished</td>\n",
       "      <td>pune</td>\n",
       "      <td>&lt;NA&gt;</td>\n",
       "      <td>NaN</td>\n",
       "    </tr>\n",
       "  </tbody>\n",
       "</table>\n",
       "<p>434 rows × 13 columns</p>\n",
       "</div>"
      ],
      "text/plain": [
       "       house_size  location   latitude  longitude  price  numBathrooms  \\\n",
       "0             400        37  28.545561  77.254349  22000           1.0   \n",
       "1             400        37  28.643259  77.132828  20000           1.0   \n",
       "29            300        37  28.653690  77.169159  15500           1.0   \n",
       "51            400        21  28.558958  77.204079  20000           1.0   \n",
       "67            400        37  28.560387  77.212837  14000           1.0   \n",
       "...           ...       ...        ...        ...    ...           ...   \n",
       "13856         400        37  18.657989  73.774261   8500           1.0   \n",
       "13859         250        37  18.657471  73.768379   6000           1.0   \n",
       "13860         350        37  18.657471  73.768379   8500           2.0   \n",
       "13865         400        37  18.649200  73.765778   6000           1.0   \n",
       "13866         400        37  18.657471  73.768379   7500           1.0   \n",
       "\n",
       "       numBalconies  priceSqFt  SecurityDeposit          Status   City   bhk  \\\n",
       "0               0.0  55.000000                0       Furnished  delhi  <NA>   \n",
       "1               0.0  50.000000                0       Furnished  delhi  <NA>   \n",
       "29              0.0  51.666667                0       Furnished  delhi  <NA>   \n",
       "51              0.0  50.000000                0  Semi-Furnished  delhi  <NA>   \n",
       "67              0.0  35.000000                0       Furnished  delhi  <NA>   \n",
       "...             ...        ...              ...             ...    ...   ...   \n",
       "13856           1.0  21.250000            20000  Semi-Furnished   pune  <NA>   \n",
       "13859           1.0  24.000000            10000  Semi-Furnished   pune  <NA>   \n",
       "13860           1.0  24.285714            15000  Semi-Furnished   pune  <NA>   \n",
       "13865           1.0  15.000000            15000     Unfurnished   pune  <NA>   \n",
       "13866           1.0  18.750000            20000     Unfurnished   pune  <NA>   \n",
       "\n",
       "      property_type  \n",
       "0               NaN  \n",
       "1               NaN  \n",
       "29              NaN  \n",
       "51              NaN  \n",
       "67              NaN  \n",
       "...             ...  \n",
       "13856           NaN  \n",
       "13859           NaN  \n",
       "13860           NaN  \n",
       "13865           NaN  \n",
       "13866           NaN  \n",
       "\n",
       "[434 rows x 13 columns]"
      ]
     },
     "execution_count": 49,
     "metadata": {},
     "output_type": "execute_result"
    }
   ],
   "source": [
    "df[df['bhk'].isnull() | df['property_type'].isnull()]\n"
   ]
  },
  {
   "cell_type": "code",
   "execution_count": 50,
   "id": "4ff9fdbb",
   "metadata": {},
   "outputs": [],
   "source": [
    "df = df.dropna(subset=['bhk', 'property_type'])\n"
   ]
  },
  {
   "cell_type": "code",
   "execution_count": 51,
   "id": "b590ea35",
   "metadata": {},
   "outputs": [
    {
     "name": "stdout",
     "output_type": "stream",
     "text": [
      "<class 'pandas.core.frame.DataFrame'>\n",
      "Index: 13466 entries, 2 to 13909\n",
      "Data columns (total 13 columns):\n",
      " #   Column           Non-Null Count  Dtype  \n",
      "---  ------           --------------  -----  \n",
      " 0   house_size       13466 non-null  int64  \n",
      " 1   location         13466 non-null  int64  \n",
      " 2   latitude         13466 non-null  float64\n",
      " 3   longitude        13466 non-null  float64\n",
      " 4   price            13466 non-null  int64  \n",
      " 5   numBathrooms     13466 non-null  float64\n",
      " 6   numBalconies     13466 non-null  float64\n",
      " 7   priceSqFt        13466 non-null  float64\n",
      " 8   SecurityDeposit  13466 non-null  int64  \n",
      " 9   Status           13466 non-null  object \n",
      " 10  City             13466 non-null  object \n",
      " 11  bhk              13466 non-null  Int64  \n",
      " 12  property_type    13466 non-null  object \n",
      "dtypes: Int64(1), float64(5), int64(4), object(3)\n",
      "memory usage: 1.5+ MB\n"
     ]
    }
   ],
   "source": [
    "df.info()"
   ]
  },
  {
   "cell_type": "code",
   "execution_count": 52,
   "id": "1c8ccdf0",
   "metadata": {},
   "outputs": [
    {
     "data": {
      "text/plain": [
       "count    13466.000000\n",
       "mean        47.468209\n",
       "std         39.701155\n",
       "min          4.000000\n",
       "25%         20.519836\n",
       "50%         32.577849\n",
       "75%         62.500000\n",
       "max        382.024843\n",
       "Name: priceSqFt, dtype: float64"
      ]
     },
     "execution_count": 52,
     "metadata": {},
     "output_type": "execute_result"
    }
   ],
   "source": [
    "df['priceSqFt'].describe()\n"
   ]
  },
  {
   "cell_type": "code",
   "execution_count": 53,
   "id": "6ce8e089",
   "metadata": {},
   "outputs": [
    {
     "data": {
      "text/plain": [
       "np.int64(0)"
      ]
     },
     "execution_count": 53,
     "metadata": {},
     "output_type": "execute_result"
    }
   ],
   "source": [
    "df['priceSqFt'].isnull().sum()\n"
   ]
  },
  {
   "cell_type": "code",
   "execution_count": 54,
   "id": "de618745",
   "metadata": {},
   "outputs": [
    {
     "data": {
      "text/plain": [
       "count           13466\n",
       "unique              3\n",
       "top       Unfurnished\n",
       "freq             5517\n",
       "Name: Status, dtype: object"
      ]
     },
     "execution_count": 54,
     "metadata": {},
     "output_type": "execute_result"
    }
   ],
   "source": [
    "df['Status'].describe()"
   ]
  },
  {
   "cell_type": "code",
   "execution_count": 55,
   "id": "9fe183f4",
   "metadata": {},
   "outputs": [
    {
     "name": "stdout",
     "output_type": "stream",
     "text": [
      "<class 'pandas.core.frame.DataFrame'>\n",
      "Index: 13466 entries, 2 to 13909\n",
      "Data columns (total 13 columns):\n",
      " #   Column           Non-Null Count  Dtype  \n",
      "---  ------           --------------  -----  \n",
      " 0   house_size       13466 non-null  int64  \n",
      " 1   location         13466 non-null  int64  \n",
      " 2   latitude         13466 non-null  float64\n",
      " 3   longitude        13466 non-null  float64\n",
      " 4   price            13466 non-null  int64  \n",
      " 5   numBathrooms     13466 non-null  float64\n",
      " 6   numBalconies     13466 non-null  float64\n",
      " 7   priceSqFt        13466 non-null  float64\n",
      " 8   SecurityDeposit  13466 non-null  int64  \n",
      " 9   Status           13466 non-null  object \n",
      " 10  City             13466 non-null  object \n",
      " 11  bhk              13466 non-null  Int64  \n",
      " 12  property_type    13466 non-null  object \n",
      "dtypes: Int64(1), float64(5), int64(4), object(3)\n",
      "memory usage: 1.5+ MB\n"
     ]
    }
   ],
   "source": [
    "df.info()"
   ]
  },
  {
   "cell_type": "markdown",
   "id": "1e53829b",
   "metadata": {},
   "source": [
    "## TEST TRAIN SPLIT"
   ]
  },
  {
   "cell_type": "code",
   "execution_count": 58,
   "id": "9265101d",
   "metadata": {},
   "outputs": [],
   "source": [
    "from sklearn.model_selection import train_test_split\n",
    "from sklearn.preprocessing import OneHotEncoder\n",
    "import pandas as pd\n",
    "\n",
    "# Backup your target\n",
    "y = df['price']\n",
    "\n",
    "# Drop target column\n",
    "X = df.drop(columns=['price'])\n"
   ]
  },
  {
   "cell_type": "code",
   "execution_count": 60,
   "id": "a6767041",
   "metadata": {},
   "outputs": [],
   "source": [
    "X_train, X_test, y_train, y_test = train_test_split(\n",
    "    X, y, test_size=0.2, random_state=42\n",
    ")\n"
   ]
  },
  {
   "cell_type": "code",
   "execution_count": 61,
   "id": "d47da8c0",
   "metadata": {},
   "outputs": [],
   "source": [
    "categorical_cols = ['Status', 'City', 'property_type']\n",
    "numerical_cols = X.select_dtypes(include=['int64', 'float64', 'Int64']).columns.tolist()\n",
    "\n",
    "# Remove 'price' and categorical ones from numeric list if present\n",
    "numerical_cols = [col for col in numerical_cols if col not in categorical_cols]\n"
   ]
  },
  {
   "cell_type": "code",
   "execution_count": 64,
   "id": "1872844d",
   "metadata": {},
   "outputs": [],
   "source": [
    "ohe = OneHotEncoder(handle_unknown='ignore', sparse_output=False)\n",
    "\n",
    "# Fit only on train categorical columns\n",
    "ohe.fit(X_train[categorical_cols])\n",
    "\n",
    "# Transform both\n",
    "X_train_cat = pd.DataFrame(\n",
    "    ohe.transform(X_train[categorical_cols]),\n",
    "    columns=ohe.get_feature_names_out(categorical_cols),\n",
    "    index=X_train.index\n",
    ")\n",
    "\n",
    "X_test_cat = pd.DataFrame(\n",
    "    ohe.transform(X_test[categorical_cols]),\n",
    "    columns=ohe.get_feature_names_out(categorical_cols),\n",
    "    index=X_test.index\n",
    ")\n"
   ]
  },
  {
   "cell_type": "code",
   "execution_count": 65,
   "id": "93a9d506",
   "metadata": {},
   "outputs": [],
   "source": [
    "X_train_final = pd.concat([X_train[numerical_cols], X_train_cat], axis=1)\n",
    "X_test_final = pd.concat([X_test[numerical_cols], X_test_cat], axis=1)\n"
   ]
  },
  {
   "cell_type": "code",
   "execution_count": 66,
   "id": "e58aacdd",
   "metadata": {},
   "outputs": [
    {
     "data": {
      "text/html": [
       "<div>\n",
       "<style scoped>\n",
       "    .dataframe tbody tr th:only-of-type {\n",
       "        vertical-align: middle;\n",
       "    }\n",
       "\n",
       "    .dataframe tbody tr th {\n",
       "        vertical-align: top;\n",
       "    }\n",
       "\n",
       "    .dataframe thead th {\n",
       "        text-align: right;\n",
       "    }\n",
       "</style>\n",
       "<table border=\"1\" class=\"dataframe\">\n",
       "  <thead>\n",
       "    <tr style=\"text-align: right;\">\n",
       "      <th></th>\n",
       "      <th>house_size</th>\n",
       "      <th>location</th>\n",
       "      <th>latitude</th>\n",
       "      <th>longitude</th>\n",
       "      <th>numBathrooms</th>\n",
       "      <th>numBalconies</th>\n",
       "      <th>priceSqFt</th>\n",
       "      <th>SecurityDeposit</th>\n",
       "      <th>bhk</th>\n",
       "      <th>Status_Furnished</th>\n",
       "      <th>...</th>\n",
       "      <th>Status_Unfurnished</th>\n",
       "      <th>City_Delhi</th>\n",
       "      <th>City_delhi</th>\n",
       "      <th>City_mumbai</th>\n",
       "      <th>City_pune</th>\n",
       "      <th>property_type_Apartment</th>\n",
       "      <th>property_type_Independent Floor</th>\n",
       "      <th>property_type_Independent House</th>\n",
       "      <th>property_type_Villa</th>\n",
       "      <th>property_type_penthouse</th>\n",
       "    </tr>\n",
       "  </thead>\n",
       "  <tbody>\n",
       "    <tr>\n",
       "      <th>13560</th>\n",
       "      <td>960</td>\n",
       "      <td>50</td>\n",
       "      <td>18.599226</td>\n",
       "      <td>73.763298</td>\n",
       "      <td>2.0</td>\n",
       "      <td>1.0</td>\n",
       "      <td>15.625000</td>\n",
       "      <td>40000</td>\n",
       "      <td>2</td>\n",
       "      <td>0.0</td>\n",
       "      <td>...</td>\n",
       "      <td>0.0</td>\n",
       "      <td>0.0</td>\n",
       "      <td>0.0</td>\n",
       "      <td>0.0</td>\n",
       "      <td>1.0</td>\n",
       "      <td>0.0</td>\n",
       "      <td>1.0</td>\n",
       "      <td>0.0</td>\n",
       "      <td>0.0</td>\n",
       "      <td>0.0</td>\n",
       "    </tr>\n",
       "    <tr>\n",
       "      <th>11812</th>\n",
       "      <td>1102</td>\n",
       "      <td>33</td>\n",
       "      <td>18.620728</td>\n",
       "      <td>73.915016</td>\n",
       "      <td>2.0</td>\n",
       "      <td>0.0</td>\n",
       "      <td>18.148820</td>\n",
       "      <td>60000</td>\n",
       "      <td>2</td>\n",
       "      <td>0.0</td>\n",
       "      <td>...</td>\n",
       "      <td>0.0</td>\n",
       "      <td>0.0</td>\n",
       "      <td>0.0</td>\n",
       "      <td>0.0</td>\n",
       "      <td>1.0</td>\n",
       "      <td>1.0</td>\n",
       "      <td>0.0</td>\n",
       "      <td>0.0</td>\n",
       "      <td>0.0</td>\n",
       "      <td>0.0</td>\n",
       "    </tr>\n",
       "    <tr>\n",
       "      <th>7854</th>\n",
       "      <td>2000</td>\n",
       "      <td>37</td>\n",
       "      <td>18.958918</td>\n",
       "      <td>72.812401</td>\n",
       "      <td>4.0</td>\n",
       "      <td>2.0</td>\n",
       "      <td>150.000000</td>\n",
       "      <td>1800000</td>\n",
       "      <td>3</td>\n",
       "      <td>1.0</td>\n",
       "      <td>...</td>\n",
       "      <td>0.0</td>\n",
       "      <td>0.0</td>\n",
       "      <td>0.0</td>\n",
       "      <td>1.0</td>\n",
       "      <td>0.0</td>\n",
       "      <td>1.0</td>\n",
       "      <td>0.0</td>\n",
       "      <td>0.0</td>\n",
       "      <td>0.0</td>\n",
       "      <td>0.0</td>\n",
       "    </tr>\n",
       "    <tr>\n",
       "      <th>5767</th>\n",
       "      <td>990</td>\n",
       "      <td>35</td>\n",
       "      <td>19.283638</td>\n",
       "      <td>72.873894</td>\n",
       "      <td>2.0</td>\n",
       "      <td>0.0</td>\n",
       "      <td>22.222222</td>\n",
       "      <td>0</td>\n",
       "      <td>2</td>\n",
       "      <td>0.0</td>\n",
       "      <td>...</td>\n",
       "      <td>0.0</td>\n",
       "      <td>0.0</td>\n",
       "      <td>0.0</td>\n",
       "      <td>1.0</td>\n",
       "      <td>0.0</td>\n",
       "      <td>1.0</td>\n",
       "      <td>0.0</td>\n",
       "      <td>0.0</td>\n",
       "      <td>0.0</td>\n",
       "      <td>0.0</td>\n",
       "    </tr>\n",
       "    <tr>\n",
       "      <th>12320</th>\n",
       "      <td>1034</td>\n",
       "      <td>11</td>\n",
       "      <td>21.875740</td>\n",
       "      <td>83.992943</td>\n",
       "      <td>2.0</td>\n",
       "      <td>0.0</td>\n",
       "      <td>14.506770</td>\n",
       "      <td>0</td>\n",
       "      <td>2</td>\n",
       "      <td>0.0</td>\n",
       "      <td>...</td>\n",
       "      <td>0.0</td>\n",
       "      <td>0.0</td>\n",
       "      <td>0.0</td>\n",
       "      <td>0.0</td>\n",
       "      <td>1.0</td>\n",
       "      <td>1.0</td>\n",
       "      <td>0.0</td>\n",
       "      <td>0.0</td>\n",
       "      <td>0.0</td>\n",
       "      <td>0.0</td>\n",
       "    </tr>\n",
       "    <tr>\n",
       "      <th>...</th>\n",
       "      <td>...</td>\n",
       "      <td>...</td>\n",
       "      <td>...</td>\n",
       "      <td>...</td>\n",
       "      <td>...</td>\n",
       "      <td>...</td>\n",
       "      <td>...</td>\n",
       "      <td>...</td>\n",
       "      <td>...</td>\n",
       "      <td>...</td>\n",
       "      <td>...</td>\n",
       "      <td>...</td>\n",
       "      <td>...</td>\n",
       "      <td>...</td>\n",
       "      <td>...</td>\n",
       "      <td>...</td>\n",
       "      <td>...</td>\n",
       "      <td>...</td>\n",
       "      <td>...</td>\n",
       "      <td>...</td>\n",
       "      <td>...</td>\n",
       "    </tr>\n",
       "    <tr>\n",
       "      <th>5352</th>\n",
       "      <td>650</td>\n",
       "      <td>45</td>\n",
       "      <td>19.227955</td>\n",
       "      <td>72.968185</td>\n",
       "      <td>2.0</td>\n",
       "      <td>0.0</td>\n",
       "      <td>49.230769</td>\n",
       "      <td>0</td>\n",
       "      <td>2</td>\n",
       "      <td>0.0</td>\n",
       "      <td>...</td>\n",
       "      <td>0.0</td>\n",
       "      <td>0.0</td>\n",
       "      <td>0.0</td>\n",
       "      <td>1.0</td>\n",
       "      <td>0.0</td>\n",
       "      <td>1.0</td>\n",
       "      <td>0.0</td>\n",
       "      <td>0.0</td>\n",
       "      <td>0.0</td>\n",
       "      <td>0.0</td>\n",
       "    </tr>\n",
       "    <tr>\n",
       "      <th>13858</th>\n",
       "      <td>650</td>\n",
       "      <td>37</td>\n",
       "      <td>18.644442</td>\n",
       "      <td>73.748817</td>\n",
       "      <td>1.0</td>\n",
       "      <td>0.0</td>\n",
       "      <td>16.153846</td>\n",
       "      <td>30000</td>\n",
       "      <td>1</td>\n",
       "      <td>0.0</td>\n",
       "      <td>...</td>\n",
       "      <td>1.0</td>\n",
       "      <td>0.0</td>\n",
       "      <td>0.0</td>\n",
       "      <td>0.0</td>\n",
       "      <td>1.0</td>\n",
       "      <td>1.0</td>\n",
       "      <td>0.0</td>\n",
       "      <td>0.0</td>\n",
       "      <td>0.0</td>\n",
       "      <td>0.0</td>\n",
       "    </tr>\n",
       "    <tr>\n",
       "      <th>5557</th>\n",
       "      <td>1100</td>\n",
       "      <td>16</td>\n",
       "      <td>19.153334</td>\n",
       "      <td>72.885765</td>\n",
       "      <td>3.0</td>\n",
       "      <td>0.0</td>\n",
       "      <td>34.545455</td>\n",
       "      <td>0</td>\n",
       "      <td>3</td>\n",
       "      <td>1.0</td>\n",
       "      <td>...</td>\n",
       "      <td>0.0</td>\n",
       "      <td>0.0</td>\n",
       "      <td>0.0</td>\n",
       "      <td>1.0</td>\n",
       "      <td>0.0</td>\n",
       "      <td>1.0</td>\n",
       "      <td>0.0</td>\n",
       "      <td>0.0</td>\n",
       "      <td>0.0</td>\n",
       "      <td>0.0</td>\n",
       "    </tr>\n",
       "    <tr>\n",
       "      <th>875</th>\n",
       "      <td>1800</td>\n",
       "      <td>37</td>\n",
       "      <td>28.538738</td>\n",
       "      <td>77.249092</td>\n",
       "      <td>3.0</td>\n",
       "      <td>0.0</td>\n",
       "      <td>55.555556</td>\n",
       "      <td>0</td>\n",
       "      <td>3</td>\n",
       "      <td>0.0</td>\n",
       "      <td>...</td>\n",
       "      <td>0.0</td>\n",
       "      <td>0.0</td>\n",
       "      <td>1.0</td>\n",
       "      <td>0.0</td>\n",
       "      <td>0.0</td>\n",
       "      <td>0.0</td>\n",
       "      <td>1.0</td>\n",
       "      <td>0.0</td>\n",
       "      <td>0.0</td>\n",
       "      <td>0.0</td>\n",
       "    </tr>\n",
       "    <tr>\n",
       "      <th>7485</th>\n",
       "      <td>850</td>\n",
       "      <td>45</td>\n",
       "      <td>19.267706</td>\n",
       "      <td>72.971306</td>\n",
       "      <td>2.0</td>\n",
       "      <td>0.0</td>\n",
       "      <td>32.941176</td>\n",
       "      <td>0</td>\n",
       "      <td>2</td>\n",
       "      <td>1.0</td>\n",
       "      <td>...</td>\n",
       "      <td>0.0</td>\n",
       "      <td>0.0</td>\n",
       "      <td>0.0</td>\n",
       "      <td>1.0</td>\n",
       "      <td>0.0</td>\n",
       "      <td>1.0</td>\n",
       "      <td>0.0</td>\n",
       "      <td>0.0</td>\n",
       "      <td>0.0</td>\n",
       "      <td>0.0</td>\n",
       "    </tr>\n",
       "  </tbody>\n",
       "</table>\n",
       "<p>10772 rows × 21 columns</p>\n",
       "</div>"
      ],
      "text/plain": [
       "       house_size  location   latitude  longitude  numBathrooms  numBalconies  \\\n",
       "13560         960        50  18.599226  73.763298           2.0           1.0   \n",
       "11812        1102        33  18.620728  73.915016           2.0           0.0   \n",
       "7854         2000        37  18.958918  72.812401           4.0           2.0   \n",
       "5767          990        35  19.283638  72.873894           2.0           0.0   \n",
       "12320        1034        11  21.875740  83.992943           2.0           0.0   \n",
       "...           ...       ...        ...        ...           ...           ...   \n",
       "5352          650        45  19.227955  72.968185           2.0           0.0   \n",
       "13858         650        37  18.644442  73.748817           1.0           0.0   \n",
       "5557         1100        16  19.153334  72.885765           3.0           0.0   \n",
       "875          1800        37  28.538738  77.249092           3.0           0.0   \n",
       "7485          850        45  19.267706  72.971306           2.0           0.0   \n",
       "\n",
       "        priceSqFt  SecurityDeposit  bhk  Status_Furnished  ...  \\\n",
       "13560   15.625000            40000    2               0.0  ...   \n",
       "11812   18.148820            60000    2               0.0  ...   \n",
       "7854   150.000000          1800000    3               1.0  ...   \n",
       "5767    22.222222                0    2               0.0  ...   \n",
       "12320   14.506770                0    2               0.0  ...   \n",
       "...           ...              ...  ...               ...  ...   \n",
       "5352    49.230769                0    2               0.0  ...   \n",
       "13858   16.153846            30000    1               0.0  ...   \n",
       "5557    34.545455                0    3               1.0  ...   \n",
       "875     55.555556                0    3               0.0  ...   \n",
       "7485    32.941176                0    2               1.0  ...   \n",
       "\n",
       "       Status_Unfurnished  City_Delhi  City_delhi  City_mumbai  City_pune  \\\n",
       "13560                 0.0         0.0         0.0          0.0        1.0   \n",
       "11812                 0.0         0.0         0.0          0.0        1.0   \n",
       "7854                  0.0         0.0         0.0          1.0        0.0   \n",
       "5767                  0.0         0.0         0.0          1.0        0.0   \n",
       "12320                 0.0         0.0         0.0          0.0        1.0   \n",
       "...                   ...         ...         ...          ...        ...   \n",
       "5352                  0.0         0.0         0.0          1.0        0.0   \n",
       "13858                 1.0         0.0         0.0          0.0        1.0   \n",
       "5557                  0.0         0.0         0.0          1.0        0.0   \n",
       "875                   0.0         0.0         1.0          0.0        0.0   \n",
       "7485                  0.0         0.0         0.0          1.0        0.0   \n",
       "\n",
       "       property_type_Apartment   property_type_Independent Floor   \\\n",
       "13560                       0.0                               1.0   \n",
       "11812                       1.0                               0.0   \n",
       "7854                        1.0                               0.0   \n",
       "5767                        1.0                               0.0   \n",
       "12320                       1.0                               0.0   \n",
       "...                         ...                               ...   \n",
       "5352                        1.0                               0.0   \n",
       "13858                       1.0                               0.0   \n",
       "5557                        1.0                               0.0   \n",
       "875                         0.0                               1.0   \n",
       "7485                        1.0                               0.0   \n",
       "\n",
       "       property_type_Independent House   property_type_Villa   \\\n",
       "13560                               0.0                   0.0   \n",
       "11812                               0.0                   0.0   \n",
       "7854                                0.0                   0.0   \n",
       "5767                                0.0                   0.0   \n",
       "12320                               0.0                   0.0   \n",
       "...                                 ...                   ...   \n",
       "5352                                0.0                   0.0   \n",
       "13858                               0.0                   0.0   \n",
       "5557                                0.0                   0.0   \n",
       "875                                 0.0                   0.0   \n",
       "7485                                0.0                   0.0   \n",
       "\n",
       "       property_type_penthouse   \n",
       "13560                       0.0  \n",
       "11812                       0.0  \n",
       "7854                        0.0  \n",
       "5767                        0.0  \n",
       "12320                       0.0  \n",
       "...                         ...  \n",
       "5352                        0.0  \n",
       "13858                       0.0  \n",
       "5557                        0.0  \n",
       "875                         0.0  \n",
       "7485                        0.0  \n",
       "\n",
       "[10772 rows x 21 columns]"
      ]
     },
     "execution_count": 66,
     "metadata": {},
     "output_type": "execute_result"
    }
   ],
   "source": [
    "X_train_final"
   ]
  },
  {
   "cell_type": "code",
   "execution_count": 67,
   "id": "12b01fe7",
   "metadata": {},
   "outputs": [
    {
     "name": "stdout",
     "output_type": "stream",
     "text": [
      "<class 'pandas.core.frame.DataFrame'>\n",
      "Index: 10772 entries, 13560 to 7485\n",
      "Data columns (total 21 columns):\n",
      " #   Column                            Non-Null Count  Dtype  \n",
      "---  ------                            --------------  -----  \n",
      " 0   house_size                        10772 non-null  int64  \n",
      " 1   location                          10772 non-null  int64  \n",
      " 2   latitude                          10772 non-null  float64\n",
      " 3   longitude                         10772 non-null  float64\n",
      " 4   numBathrooms                      10772 non-null  float64\n",
      " 5   numBalconies                      10772 non-null  float64\n",
      " 6   priceSqFt                         10772 non-null  float64\n",
      " 7   SecurityDeposit                   10772 non-null  int64  \n",
      " 8   bhk                               10772 non-null  Int64  \n",
      " 9   Status_Furnished                  10772 non-null  float64\n",
      " 10  Status_Semi-Furnished             10772 non-null  float64\n",
      " 11  Status_Unfurnished                10772 non-null  float64\n",
      " 12  City_Delhi                        10772 non-null  float64\n",
      " 13  City_delhi                        10772 non-null  float64\n",
      " 14  City_mumbai                       10772 non-null  float64\n",
      " 15  City_pune                         10772 non-null  float64\n",
      " 16  property_type_Apartment           10772 non-null  float64\n",
      " 17  property_type_Independent Floor   10772 non-null  float64\n",
      " 18  property_type_Independent House   10772 non-null  float64\n",
      " 19  property_type_Villa               10772 non-null  float64\n",
      " 20  property_type_penthouse           10772 non-null  float64\n",
      "dtypes: Int64(1), float64(17), int64(3)\n",
      "memory usage: 1.8 MB\n"
     ]
    }
   ],
   "source": [
    "X_train_final.info()"
   ]
  },
  {
   "cell_type": "markdown",
   "id": "11ebc4e6",
   "metadata": {},
   "source": [
    "## Lets go with Linear Regression"
   ]
  },
  {
   "cell_type": "code",
   "execution_count": 70,
   "id": "585c03c8",
   "metadata": {},
   "outputs": [
    {
     "name": "stdout",
     "output_type": "stream",
     "text": [
      "\n",
      "📊 Evaluation on Train Set:\n",
      "MAE: 27871.404929420656\n",
      "RMSE: 48743.768551141395\n",
      "R² Score: 0.9361622454183319\n",
      "Adjusted R²: 0.9360375391070561\n",
      "MAPE: 77.24435614464402 %\n",
      "\n",
      "📊 Evaluation on Test Set:\n",
      "MAE: 29361.612248904676\n",
      "RMSE: 57605.619967846105\n",
      "R² Score: 0.9208449483127639\n",
      "Adjusted R²: 0.9202228464843837\n",
      "MAPE: 76.7514583812064 %\n"
     ]
    }
   ],
   "source": [
    "from sklearn.linear_model import LinearRegression\n",
    "from sklearn.metrics import mean_absolute_error, mean_squared_error, r2_score\n",
    "import numpy as np\n",
    "\n",
    "# 1. Initialize and Train\n",
    "lr_model = LinearRegression()\n",
    "lr_model.fit(X_train_final, y_train)\n",
    "\n",
    "# 2. Predict\n",
    "y_train_pred = lr_model.predict(X_train_final)\n",
    "y_test_pred = lr_model.predict(X_test_final)\n",
    "\n",
    "# 3. Evaluate\n",
    "def evaluate(y_true, y_pred, dataset_name):\n",
    "    print(f\"\\n📊 Evaluation on {dataset_name}:\")\n",
    "    print(\"MAE:\", mean_absolute_error(y_true, y_pred))\n",
    "    print(\"RMSE:\", np.sqrt(mean_squared_error(y_true, y_pred)))\n",
    "    print(\"R² Score:\", r2_score(y_true, y_pred))\n",
    "\n",
    "def extended_evaluate(y_true, y_pred, dataset_name, n_features):\n",
    "    n = len(y_true)\n",
    "    p = n_features\n",
    "    \n",
    "    mae = mean_absolute_error(y_true, y_pred)\n",
    "    rmse = np.sqrt(mean_squared_error(y_true, y_pred))\n",
    "    r2 = r2_score(y_true, y_pred)\n",
    "    mape = np.mean(np.abs((y_true - y_pred) / y_true)) * 100\n",
    "    adj_r2 = 1 - (1 - r2) * ((n - 1) / (n - p - 1))\n",
    "    \n",
    "    print(f\"\\n📊 Evaluation on {dataset_name}:\")\n",
    "    print(\"MAE:\", mae)\n",
    "    print(\"RMSE:\", rmse)\n",
    "    print(\"R² Score:\", r2)\n",
    "    print(\"Adjusted R²:\", adj_r2)\n",
    "    print(\"MAPE:\", mape, \"%\")\n",
    "\n",
    "\n",
    "extended_evaluate(y_train, y_train_pred, \"Train Set\", X_train_final.shape[1])\n",
    "extended_evaluate(y_test, y_test_pred, \"Test Set\", X_test_final.shape[1])\n"
   ]
  },
  {
   "cell_type": "code",
   "execution_count": 73,
   "id": "ca048ecf",
   "metadata": {},
   "outputs": [],
   "source": [
    "import numpy as np\n",
    "from sklearn.metrics import mean_absolute_error, mean_squared_error, r2_score\n",
    "from datetime import datetime\n",
    "\n",
    "def log_metrics(y_true, y_pred, dataset_name, model_name, n_features, log_file='LR_model_metrics.log'):\n",
    "    n = len(y_true)\n",
    "    p = n_features\n",
    "\n",
    "    mae = mean_absolute_error(y_true, y_pred)\n",
    "    rmse = np.sqrt(mean_squared_error(y_true, y_pred))\n",
    "    r2 = r2_score(y_true, y_pred)\n",
    "    mape = np.mean(np.abs((y_true - y_pred) / y_true)) * 100\n",
    "    adj_r2 = 1 - (1 - r2) * ((n - 1) / (n - p - 1))\n",
    "\n",
    "    log_entry = f\"\"\"\n",
    "📅 Date: {datetime.now().strftime(\"%Y-%m-%d %H:%M:%S\")}\n",
    "🧠 Model: {model_name}\n",
    "📂 Dataset: {dataset_name}\n",
    "🧮 Features: {p}\n",
    "📊 MAE: {mae:.4f}\n",
    "📊 RMSE: {rmse:.4f}\n",
    "📊 R² Score: {r2:.4f}\n",
    "📊 Adjusted R²: {adj_r2:.4f}\n",
    "📊 MAPE: {mape:.2f}%\n",
    "\n",
    "{'='*60}\n",
    "\"\"\"\n",
    "\n",
    "    print(log_entry)  # Also print on console\n",
    "\n",
    "    # Append to log file\n",
    "    with open(log_file, 'a') as f:\n",
    "        f.write(log_entry)"
   ]
  }
 ],
 "metadata": {
  "kernelspec": {
   "display_name": "Python 3",
   "language": "python",
   "name": "python3"
  },
  "language_info": {
   "codemirror_mode": {
    "name": "ipython",
    "version": 3
   },
   "file_extension": ".py",
   "mimetype": "text/x-python",
   "name": "python",
   "nbconvert_exporter": "python",
   "pygments_lexer": "ipython3",
   "version": "3.10.11"
  }
 },
 "nbformat": 4,
 "nbformat_minor": 5
}
